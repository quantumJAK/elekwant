{
 "cells": [
  {
   "cell_type": "code",
   "execution_count": 3,
   "id": "31e3859a",
   "metadata": {},
   "outputs": [],
   "source": [
    "#Importowanie bibliotek\n",
    "import qutip as qt\n",
    "import matplotlib.pyplot as plt\n",
    "import numpy as np\n",
    "\n",
    "#Deklaracja macierzy pauliego\n",
    "#------TUTAJ BYŁ BŁĄD!-----------\n",
    "sx = qt.sigmax()  #sigma x -> obraca wokol osi x\n",
    "sy = qt.sigmay()  #sigma y -> obraca wokol osi y\n",
    "sz = qt.sigmaz()  #sigma z -> obraca wokol osi z\n",
    "s0 = qt.qeye(2)   #operator nic nie robiacy \"jedynka\""
   ]
  },
  {
   "cell_type": "code",
   "execution_count": 4,
   "id": "5db39f87",
   "metadata": {},
   "outputs": [],
   "source": [
    "#Bramki kwantowe\n",
    "def Ry(psi,qubit,kat): #Obrot wokol osi y. Argumenty=(psi=stan na wejściu, psi = na którym kubicie, kat)\n",
    "    times = np.linspace(0,kat,21)  #wektor czasów\n",
    "    if qubit==0: #qubit a (moj)\n",
    "        Ha = qt.tensor(sy/2,s0) #Hamiltonian obracajacy qubit a wokol osi y\n",
    "        res = qt.mesolve(Ha,psi,times) #symulacja ewolucji od stanu psi przez czas \"kat\"\n",
    "        psi = res.states[-1]   #pobranie ostatniego stanu\n",
    "    if qubit==1: #sasiada b\n",
    "        Hb = qt.tensor(s0,sy/2)#Hamiltonian obracajacy qubit b wokol osi y\n",
    "        res = qt.mesolve(Hb,psi,times) #symulacja ewolucji od stanu psi przez czas \"kat\"\n",
    "        psi = res.states[-1] #pobranie ostatniego stanu\n",
    "    return psi  #zwrócenie stanu na wyjściu\n",
    "\n",
    "\n",
    "def Rx(psi,qubit,kat): #Obrot wokol osi x. Argumenty=(psi=stan na wejściu, psi = na którym kubicie, kat)\n",
    "    times = np.linspace(0,kat,21)   #wektor czasów\n",
    "    if qubit==0:  #qubit a (moj)\n",
    "        Ha = qt.tensor(sx/2,s0) #Hamiltonian obracajacy qubit a wokol osi x\n",
    "        res = qt.mesolve(Ha,psi,times) #symulacja ewolucji od stanu psi przez czas \"kat\"\n",
    "        psi = res.states[-1] #pobranie ostatniego stanu\n",
    "    if qubit==1: #sasiada b\n",
    "        Hb = qt.tensor(s0,sx/2) #Hamiltonian obracajacy qubit b wokol osi x\n",
    "        res = qt.mesolve(Hb,psi,times) #symulacja ewolucji od stanu psi przez czas \"kat\"\n",
    "        psi = res.states[-1] #pobranie ostatniego stanu\n",
    "    return psi #zwrócenie stanu na wyjściu\n",
    "\n",
    "\n",
    "\n",
    "def Rzz(psi,kat): #Oddziaływanie kubitów typu ZZ. Argumenty=(psi=stan na wejściu, kat=watunkowy kat obrotu)\n",
    "    times = np.linspace(0,kat,21)   #wektor czasów \n",
    "    Hzz = qt.tensor(sz,sz)  #Hamiltonian H = sigmaz_a sigmaz_b, delta= 1 tak żeby kat wyrazony byl w czasie\n",
    "    res = qt.mesolve(Hzz/2.,psi,times) #symulacja ewolucji wywolanej oddziaływaniem\n",
    "    psi = res.states[-1] #pobranie ostatniego stanu\n",
    "    return psi #zwrócenie stanu na wyjściu"
   ]
  },
  {
   "cell_type": "markdown",
   "id": "a81f9538",
   "metadata": {},
   "source": [
    "Krok 1"
   ]
  },
  {
   "cell_type": "code",
   "execution_count": 5,
   "id": "23942f36",
   "metadata": {},
   "outputs": [],
   "source": [
    "#słownik: 0--> a,  1---> b\n",
    "plus = qt.basis(2,0) #stan |+>\n",
    "psi1 = qt.tensor(plus,plus)#|psi0> = |+a>|+b>"
   ]
  },
  {
   "cell_type": "markdown",
   "id": "4538264d",
   "metadata": {},
   "source": [
    "Krok 2"
   ]
  },
  {
   "cell_type": "code",
   "execution_count": 6,
   "id": "077ab384",
   "metadata": {},
   "outputs": [],
   "source": [
    "psi2 = Ry(psi1,0,np.pi/2)  #obraca kubit a(0) wokol osi y o pi/2\n",
    "psi2 = Ry(psi2,1,np.pi/2)  #obraca kubit b(1) wokol osi y o pi/2"
   ]
  },
  {
   "cell_type": "markdown",
   "id": "209788d6",
   "metadata": {},
   "source": [
    "Krok 3 (oddiaływanie)"
   ]
  },
  {
   "cell_type": "code",
   "execution_count": 7,
   "id": "3a26a0a7",
   "metadata": {},
   "outputs": [],
   "source": [
    "psi3 = Rzz(psi2,np.pi/2)  #Odziałwanie qubitów a i b przez czas t = hbar pi/2/delta (splatanie jest tutaj)"
   ]
  },
  {
   "cell_type": "markdown",
   "id": "307c43f2",
   "metadata": {},
   "source": [
    "Krok 4(naprawa)"
   ]
  },
  {
   "cell_type": "code",
   "execution_count": 8,
   "id": "ba048a00",
   "metadata": {},
   "outputs": [],
   "source": [
    "psi4 = Rx(psi3,1,np.pi/2)  #obrot kubitu b(1) wokol osi y o pi/2 (naprawiam baze zeby lepiej wygladala)"
   ]
  },
  {
   "cell_type": "markdown",
   "id": "ca80b33f",
   "metadata": {},
   "source": [
    "Krok 5 (sprawdzamy)"
   ]
  },
  {
   "cell_type": "code",
   "execution_count": 10,
   "id": "3a7191a4",
   "metadata": {},
   "outputs": [],
   "source": [
    "m0 = qt.tensor(sz,s0)    #Operator mierzący rzut na os z na kubicie a i nic nie robiacy na b\n",
    "m1 = qt.tensor(s0,sz)    #Operator mierzący rzut na os z na kubicie b i nic nie robiacy na a\n",
    "mzz = qt.tensor(sz,sz)   #Operator mierzący rzut na os z qubitu a i mnożący przez rzut na os a qubitu b\n",
    "\n",
    "ez0 = qt.expect(m0,psi4)   #Ez_a = p_+a - p_-a czyli pstwo zmierzenia |+> - p-stwo zmierzenia |-> na kubicie a\n",
    "ez1 = qt.expect(m1,psi4)   #Ez_a = p_+a - p_-a czyli pstwo zmierzenia |+> - p-stwo zmierzenia |-> na kubicie a\n",
    "ezz = qt.expect(mzz,psi4) #Ezz_a = p(za*zb=1) - p(za*ab=-1) czyli pstwo zmierzenie (1,1) lub (-1,-1)\n",
    "# minus pstwo zmierzenia (1,-1),(-1,1)"
   ]
  },
  {
   "cell_type": "code",
   "execution_count": 11,
   "id": "0ecc54c8",
   "metadata": {},
   "outputs": [],
   "source": [
    "# przypadku splatania powinnismy miec ez0=0, ez1=0, ezz=1 \n",
    "#pomiary na kazdym z kubitow sa losow (1,-1,-1,1 etc) ale ta losowosc jest skorelwana (1,1),(-1,-1) etc..."
   ]
  },
  {
   "cell_type": "code",
   "execution_count": 14,
   "id": "62780e30",
   "metadata": {},
   "outputs": [
    {
     "name": "stdout",
     "output_type": "stream",
     "text": [
      "E_{za}=5.3403694347808894e-06\n",
      "E_{zb}=5.340384972574164e-06\n",
      "E_{zz}=0.999999999960775\n"
     ]
    }
   ],
   "source": [
    "print(\"E_{za}=\"+str(ez0))\n",
    "print(\"E_{zb}=\"+str(ez1))\n",
    "print(\"E_{zz}=\"+str(ezz))"
   ]
  }
 ],
 "metadata": {
  "kernelspec": {
   "display_name": "Python 3",
   "language": "python",
   "name": "python3"
  },
  "language_info": {
   "codemirror_mode": {
    "name": "ipython",
    "version": 3
   },
   "file_extension": ".py",
   "mimetype": "text/x-python",
   "name": "python",
   "nbconvert_exporter": "python",
   "pygments_lexer": "ipython3",
   "version": "3.8.8"
  }
 },
 "nbformat": 4,
 "nbformat_minor": 5
}
