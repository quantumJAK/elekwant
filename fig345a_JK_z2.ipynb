{
 "cells": [
  {
   "cell_type": "code",
   "execution_count": 1,
   "metadata": {},
   "outputs": [],
   "source": [
    "import numpy as np\n",
    "from matplotlib import pyplot as plt\n",
    "from matplotlib import patches, ticker\n",
    "import matplotlib.image as mpimg\n",
    "from glob import glob\n",
    "from scipy.interpolate import interp2d, bisplev, interp1d, UnivariateSpline\n",
    "from scipy.optimize import curve_fit\n",
    "import re\n",
    "from glob import glob\n",
    "from utils import *\n",
    "data_root = \"Data/\"\n",
    "figure_root = \"Figures/\"\n",
    "cm = 1e7  "
   ]
  },
  {
   "cell_type": "code",
   "execution_count": 2,
   "metadata": {},
   "outputs": [],
   "source": [
    "# Latex support\n",
    "import os\n",
    "#os.environ[\"path\"] = os.environ[\"path\"]+r\";C:\\Users\\mkepa\\AppData\\Local\\Programs\\MiKTeX\\miktex\\bin\\x64\"\n",
    "os.environ[\"path\"] = os.environ[\"path\"]+r\";C:\\Users\\Johny Eleven\\AppData\\Local\\Programs\\MiKTeX\\miktex\\bin\\x64\"\n",
    "\n",
    "\n",
    "plt.rcParams.update({\n",
    "    \"text.usetex\": True,\n",
    "    \"font.family\": \"sans-serif\",\n",
    "    # \"font.sans-serif\": \"Helvetica\",\n",
    "})"
   ]
  },
  {
   "cell_type": "code",
   "execution_count": 3,
   "metadata": {},
   "outputs": [],
   "source": [
    "def z_der_fun_two(layer1,layer2,dz = 0.2):\n",
    "    data1 = load_data(layer1)\n",
    "    xlabels, ylabels = get_xy(data1)\n",
    "    data_map1 = get_interpolated_map(get_data_map(data1),xlabels,ylabels, return_func=True)\n",
    "\n",
    "    data2 = load_data(layer2)\n",
    "    xlabels, ylabels = get_xy(data2)\n",
    "    data_map2 = get_interpolated_map(get_data_map(data2),xlabels,ylabels, return_func=True)\n",
    "\n",
    "    return lambda x,y: (data_map2[2](x,y)-data_map1[2](x,y))/dz"
   ]
  },
  {
   "cell_type": "code",
   "execution_count": 4,
   "metadata": {},
   "outputs": [],
   "source": [
    "layer1 = 'D:\\\\Codes\\\\Data\\\\Sweep_24_02_2023\\\\single31x31_z102.25.csv'\n",
    "layer2 = 'D:\\\\Codes\\\\Data\\\\Sweep_24_02_2023\\\\single31x31_z101.75.csv'\n",
    "\n",
    "interp_dz = z_der_fun_two('D:\\\\Codes\\\\Data\\\\Sweep_24_02_2023\\\\single31x31_z101.75.csv',\n",
    "                          'D:\\\\Codes\\\\Data\\\\Sweep_24_02_2023\\\\single31x31_z102.25.csv',\n",
    "                          0.5)"
   ]
  },
  {
   "cell_type": "code",
   "execution_count": 5,
   "metadata": {},
   "outputs": [
    {
     "data": {
      "text/plain": [
       "<matplotlib.colorbar.Colorbar at 0x249f6467e50>"
      ]
     },
     "execution_count": 5,
     "metadata": {},
     "output_type": "execute_result"
    },
    {
     "data": {
      "image/png": "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\n",
      "text/plain": [
       "<Figure size 432x288 with 2 Axes>"
      ]
     },
     "metadata": {
      "needs_background": "light"
     },
     "output_type": "display_data"
    }
   ],
   "source": [
    "x = np.linspace(30,380)\n",
    "y = np.linspace(30,380)\n",
    "plt.contourf(interp_dz(x,y))\n",
    "plt.colorbar()"
   ]
  },
  {
   "cell_type": "code",
   "execution_count": 6,
   "metadata": {},
   "outputs": [],
   "source": [
    "# mpl.style.use(\"seaborn\")\n",
    "# mpl.rcParams['font.size'] = 18\n",
    "SMALL_SIZE = 11\n",
    "MEDIUM_SIZE = 15\n",
    "BIGGER_SIZE = 18\n",
    "\n",
    "plt.rc('font', size=SMALL_SIZE)          # controls default text sizes\n",
    "plt.rc('axes', titlesize=SMALL_SIZE)     # fontsize of the axes title\n",
    "plt.rc('axes', labelsize=SMALL_SIZE)    # fontsize of the x and y labels\n",
    "plt.rc('xtick', labelsize=SMALL_SIZE)    # fontsize of the tick labels\n",
    "plt.rc('ytick', labelsize=SMALL_SIZE)    # fontsize of the tick labels\n",
    "plt.rc('legend', fontsize=8)    # legend fontsize\n",
    "plt.rc('figure', titlesize=BIGGER_SIZE)  # fontsize of the figure title\n",
    "plt.rcParams.update({\n",
    "    \"text.usetex\": True,\n",
    "    \"font.family\": \"sans-serif\",\n",
    "    # \"font.sans-serif\": \"Helvetica\",\n",
    "})"
   ]
  },
  {
   "cell_type": "markdown",
   "metadata": {},
   "source": [
    "### Functions for this notebook"
   ]
  },
  {
   "cell_type": "markdown",
   "metadata": {},
   "source": [
    "If they are used in more than one notebook, we should create a separate file with them and import it"
   ]
  },
  {
   "cell_type": "code",
   "execution_count": 32,
   "metadata": {},
   "outputs": [],
   "source": [
    "def generate_derivatives(data):\n",
    "    #Here I compute the derrivatibes\n",
    "    xlabels, ylabels = get_xy(data)\n",
    "    x_dim = xlabels[-1]-xlabels[0]    #size in x-direction in nm\n",
    "    y_dim = ylabels[-1]-ylabels[0]    #size in y-directions in nm\n",
    "    single_data_mapL = get_data_map(data)\n",
    "\n",
    "    interpolated_dx = get_interpolated_map(single_data_mapL, xlabels, ylabels, dx=1, \n",
    "                                                       return_func=True)[2]\n",
    "    interpolated_dy = get_interpolated_map(single_data_mapL, xlabels, ylabels, dy=1, \n",
    "                                                       return_func=True)[2]\n",
    "    \n",
    "    #interpolated_dz = z_der_fun_two(layer1,layer2,dz = 0.5)\n",
    "    \n",
    "    interpolated_dz = get_interpolated_map(der_z_map_f(100.2, dz=1), xlabels, ylabels,return_func=True)[2]\n",
    "\n",
    "    derr = [interpolated_dx,interpolated_dy, interpolated_dz]  #[dE/dx, dE/dy]\n",
    "    return x_dim, y_dim, derr"
   ]
  },
  {
   "cell_type": "code",
   "execution_count": 33,
   "metadata": {},
   "outputs": [],
   "source": [
    "def generate_random_positions(number_of_defects, x_dim, y_dim, z_dim=None):\n",
    "    '''\n",
    "    Function generates random positions of defects in 2D or 3D\n",
    "    returns array (3,N) or (2,N)\n",
    "    '''\n",
    "    x_range = x_dim[-1]-x_dim[0]\n",
    "    y_range = y_dim[-1]-y_dim[0]\n",
    "\n",
    "    \n",
    "    if z_dim:\n",
    "        return np.array([x_dim[0]+x_range*np.random.uniform(size = number_of_defects),\n",
    "                         y_dim[0]+y_xrange*np.random.uniform(size = number_of_defects),\n",
    "                         z_dim[0]+z_xrange*np.random.uniform(size = number_of_defects)]).T\n",
    "    else:\n",
    "        return np.array([x_dim[0]+x_range*np.random.uniform(size = number_of_defects),\n",
    "                         y_dim[0]+y_range*np.random.uniform(size = number_of_defects)]).T\n",
    "\n",
    "\n",
    "\n",
    "def generate_random_shifts(number_of_defects, x_dim, y_dim, sigma_r, z_dim=None):\n",
    "    '''\n",
    "    Function moves each of the defect by random variable.\n",
    "    returns array (3,N) or (2,N)\n",
    "    '''\n",
    "    if z_dim:\n",
    "        return np.array([sigma_r/np.sqrt(3)*np.random.normal(size = number_of_defects),\n",
    "                         sigma_r/np.sqrt(3)*np.random.normal(size = number_of_defects),\n",
    "                         sigma_r/np.sqrt(3)*np.random.normal(size = number_of_defects)]).T\n",
    "    else:\n",
    "        return np.array([sigma_r/np.sqrt(2)*np.random.normal(size = number_of_defects),\n",
    "                         sigma_r/np.sqrt(2)*np.random.normal(size = number_of_defects)]).T"
   ]
  },
  {
   "cell_type": "code",
   "execution_count": 34,
   "metadata": {},
   "outputs": [],
   "source": [
    "def generate_etas(x_dim,y_dim,derr, rho, sigma_r):\n",
    "    charge_density = rho/cm**2\n",
    "    number_of_defects = int(x_dim*y_dim*charge_density)\n",
    "    r = generate_random_positions(number_of_defects, x_dim, y_dim, z_dim=100)  #wylosuj położenia defektów\n",
    "    dr = generate_random_shifts(number_of_defects, x_dim, y_dim, z_dim=True, sigma_r = sigma_r)\n",
    "    etasL = [np.sum([dr[n,k]*derr[k](r[n,0],r[n,1]) for k in range(3)]) for n in range(number_of_defects)]\n",
    "    return etasL\n",
    "\n",
    "\n",
    "def generate_etas_fpd(x_dim,y_dim, derr, rho, sigma_r, om_range, om_range_ext):\n",
    "    \n",
    "    charge_density = rho/cm**2\n",
    "    x_range = x_dim[-1]-x_dim[0]\n",
    "    y_range = y_dim[-1]-y_dim[0]\n",
    "    m = 1\n",
    "    number_of_defects = int(m**2*x_range*y_range*charge_density)\n",
    "    \n",
    "    center = [(x_dim[-1]+x_dim[0])/2,(y_dim[-1]+y_dim[0])/2]\n",
    "    fpd = number_of_defects/np.log10(om_range[1]/om_range[0])\n",
    "    number_of_defects = int(np.log10(om_range_ext[1]/om_range_ext[0])*fpd)\n",
    "    r = generate_random_positions(number_of_defects, center[0]+m*(x_dim-center[0]), \n",
    "                                  center[1]+m*(y_dim-center[1]), z_dim=False)  #wylosuj położenia defektów\n",
    "    dr = generate_random_shifts(number_of_defects, x_dim, y_dim, z_dim=True, sigma_r = sigma_r)\n",
    "    etasL = [np.sum([dr[n,k]*derr[k](r[n,0],r[n,1]) for k in range(3)]) for n in range(number_of_defects)]\n",
    "    return etasL"
   ]
  },
  {
   "cell_type": "markdown",
   "metadata": {},
   "source": [
    "### Import"
   ]
  },
  {
   "cell_type": "code",
   "execution_count": 9,
   "metadata": {
    "scrolled": false
   },
   "outputs": [
    {
     "ename": "StopIteration",
     "evalue": "",
     "output_type": "error",
     "traceback": [
      "\u001b[1;31m---------------------------------------------------------------------------\u001b[0m",
      "\u001b[1;31mStopIteration\u001b[0m                             Traceback (most recent call last)",
      "\u001b[1;32m<ipython-input-9-316c1908af7d>\u001b[0m in \u001b[0;36m<module>\u001b[1;34m\u001b[0m\n\u001b[0;32m      5\u001b[0m \u001b[1;33m\u001b[0m\u001b[0m\n\u001b[0;32m      6\u001b[0m \u001b[1;31m# %run \"H:/Mój dysk/Codes/Python/utils.py\"  #ignore not found\u001b[0m\u001b[1;33m\u001b[0m\u001b[1;33m\u001b[0m\u001b[1;33m\u001b[0m\u001b[0m\n\u001b[1;32m----> 7\u001b[1;33m \u001b[0mder_z_map_f\u001b[0m \u001b[1;33m=\u001b[0m \u001b[0minterpolate_z\u001b[0m\u001b[1;33m(\u001b[0m\u001b[1;34m\"D:\\\\Codes\\\\Data\\\\Sweep_24_02_2023\\\\\"\u001b[0m\u001b[1;33m)\u001b[0m\u001b[1;33m\u001b[0m\u001b[1;33m\u001b[0m\u001b[0m\n\u001b[0m\u001b[0;32m      8\u001b[0m \u001b[1;33m\u001b[0m\u001b[0m\n\u001b[0;32m      9\u001b[0m \u001b[0mdata\u001b[0m \u001b[1;33m=\u001b[0m \u001b[0mload_data\u001b[0m\u001b[1;33m(\u001b[0m\u001b[0mfname\u001b[0m\u001b[1;33m)\u001b[0m\u001b[1;33m\u001b[0m\u001b[1;33m\u001b[0m\u001b[0m\n",
      "\u001b[1;32mD:\\Codes\\Python\\Paper_figures\\utils.py\u001b[0m in \u001b[0;36minterpolate_z\u001b[1;34m(data_path)\u001b[0m\n\u001b[0;32m    165\u001b[0m     \u001b[0mzlabels\u001b[0m \u001b[1;33m=\u001b[0m \u001b[1;33m[\u001b[0m\u001b[1;33m]\u001b[0m\u001b[1;33m\u001b[0m\u001b[1;33m\u001b[0m\u001b[0m\n\u001b[0;32m    166\u001b[0m     \u001b[1;32mfor\u001b[0m \u001b[0mi\u001b[0m\u001b[1;33m,\u001b[0m \u001b[0mfname\u001b[0m \u001b[1;32min\u001b[0m \u001b[0menumerate\u001b[0m\u001b[1;33m(\u001b[0m\u001b[0mpaths_sorted\u001b[0m\u001b[1;33m)\u001b[0m\u001b[1;33m:\u001b[0m\u001b[1;33m\u001b[0m\u001b[1;33m\u001b[0m\u001b[0m\n\u001b[1;32m--> 167\u001b[1;33m         \u001b[0mdata\u001b[0m \u001b[1;33m=\u001b[0m \u001b[0mload_data\u001b[0m\u001b[1;33m(\u001b[0m\u001b[0mfname\u001b[0m\u001b[1;33m)\u001b[0m\u001b[1;33m\u001b[0m\u001b[1;33m\u001b[0m\u001b[0m\n\u001b[0m\u001b[0;32m    168\u001b[0m         \u001b[0mxlabels\u001b[0m\u001b[1;33m,\u001b[0m \u001b[0mylabels\u001b[0m \u001b[1;33m=\u001b[0m \u001b[0mget_xy\u001b[0m\u001b[1;33m(\u001b[0m\u001b[0mdata\u001b[0m\u001b[1;33m)\u001b[0m\u001b[1;33m\u001b[0m\u001b[1;33m\u001b[0m\u001b[0m\n\u001b[0;32m    169\u001b[0m         \u001b[0mdata_map\u001b[0m \u001b[1;33m=\u001b[0m \u001b[0mget_data_map\u001b[0m\u001b[1;33m(\u001b[0m\u001b[0mdata\u001b[0m\u001b[1;33m)\u001b[0m\u001b[1;33m\u001b[0m\u001b[1;33m\u001b[0m\u001b[0m\n",
      "\u001b[1;32mD:\\Codes\\Python\\Paper_figures\\utils.py\u001b[0m in \u001b[0;36mload_data\u001b[1;34m(path)\u001b[0m\n\u001b[0;32m      5\u001b[0m \u001b[1;33m\u001b[0m\u001b[0m\n\u001b[0;32m      6\u001b[0m \u001b[1;32mdef\u001b[0m \u001b[0mload_data\u001b[0m\u001b[1;33m(\u001b[0m\u001b[0mpath\u001b[0m\u001b[1;33m)\u001b[0m\u001b[1;33m:\u001b[0m\u001b[1;33m\u001b[0m\u001b[1;33m\u001b[0m\u001b[0m\n\u001b[1;32m----> 7\u001b[1;33m     \u001b[1;32mreturn\u001b[0m \u001b[0mnp\u001b[0m\u001b[1;33m.\u001b[0m\u001b[0mloadtxt\u001b[0m\u001b[1;33m(\u001b[0m\u001b[0mpath\u001b[0m\u001b[1;33m,\u001b[0m \u001b[0mdtype\u001b[0m\u001b[1;33m=\u001b[0m\u001b[0mnp\u001b[0m\u001b[1;33m.\u001b[0m\u001b[0mdouble\u001b[0m\u001b[1;33m,\u001b[0m \u001b[0mdelimiter\u001b[0m\u001b[1;33m=\u001b[0m\u001b[1;34m\",\"\u001b[0m\u001b[1;33m,\u001b[0m \u001b[0mskiprows\u001b[0m\u001b[1;33m=\u001b[0m\u001b[1;36m5\u001b[0m\u001b[1;33m)\u001b[0m\u001b[1;33m\u001b[0m\u001b[1;33m\u001b[0m\u001b[0m\n\u001b[0m\u001b[0;32m      8\u001b[0m \u001b[1;33m\u001b[0m\u001b[0m\n\u001b[0;32m      9\u001b[0m \u001b[1;33m\u001b[0m\u001b[0m\n",
      "\u001b[1;32mC:\\ProgramData\\Anaconda3\\lib\\site-packages\\numpy\\lib\\npyio.py\u001b[0m in \u001b[0;36mloadtxt\u001b[1;34m(fname, dtype, comments, delimiter, converters, skiprows, usecols, unpack, ndmin, encoding, max_rows, like)\u001b[0m\n\u001b[0;32m   1087\u001b[0m         \u001b[1;31m# Skip the first `skiprows` lines\u001b[0m\u001b[1;33m\u001b[0m\u001b[1;33m\u001b[0m\u001b[1;33m\u001b[0m\u001b[0m\n\u001b[0;32m   1088\u001b[0m         \u001b[1;32mfor\u001b[0m \u001b[0mi\u001b[0m \u001b[1;32min\u001b[0m \u001b[0mrange\u001b[0m\u001b[1;33m(\u001b[0m\u001b[0mskiprows\u001b[0m\u001b[1;33m)\u001b[0m\u001b[1;33m:\u001b[0m\u001b[1;33m\u001b[0m\u001b[1;33m\u001b[0m\u001b[0m\n\u001b[1;32m-> 1089\u001b[1;33m             \u001b[0mnext\u001b[0m\u001b[1;33m(\u001b[0m\u001b[0mfh\u001b[0m\u001b[1;33m)\u001b[0m\u001b[1;33m\u001b[0m\u001b[1;33m\u001b[0m\u001b[0m\n\u001b[0m\u001b[0;32m   1090\u001b[0m \u001b[1;33m\u001b[0m\u001b[0m\n\u001b[0;32m   1091\u001b[0m         \u001b[1;31m# Read until we find a line with some values, and use\u001b[0m\u001b[1;33m\u001b[0m\u001b[1;33m\u001b[0m\u001b[1;33m\u001b[0m\u001b[0m\n",
      "\u001b[1;31mStopIteration\u001b[0m: "
     ]
    }
   ],
   "source": [
    "#IMPORT\n",
    "#Here one should adjust the dir between windows/linux\n",
    "data_root = \"Data/\"\n",
    "fname = 'D:\\\\Codes\\\\Data\\\\Sweep_24_02_2023\\\\single31x31_z101.75.csv'\n",
    "\n",
    "# %run \"H:/Mój dysk/Codes/Python/utils.py\"  #ignore not found\n",
    "der_z_map_f = interpolate_z(\"D:\\\\Codes\\\\Data\\\\Sweep_24_02_2023\\\\\")\n",
    "\n",
    "data = load_data(fname)\n",
    "xlabels, ylabels = get_xy(data)\n",
    "data_map = get_data_map(data)\n",
    "\n"
   ]
  },
  {
   "cell_type": "markdown",
   "metadata": {},
   "source": [
    "### Generation of the couplings"
   ]
  },
  {
   "cell_type": "code",
   "execution_count": 55,
   "metadata": {},
   "outputs": [],
   "source": [
    "charge_densities = [5*1e9,1e10,5*1e10,2*1e10,1e11]\n",
    "#charge_densities = [5*1e9,5*1e10,5*1e11,5*1e9*np.sqrt(10),5*1e10*np.sqrt(10)]    # Density of charges\n",
    "drs = np.linspace(0.1,0.5,5)      # Average jump size"
   ]
  },
  {
   "cell_type": "code",
   "execution_count": 56,
   "metadata": {
    "scrolled": true
   },
   "outputs": [
    {
     "name": "stdout",
     "output_type": "stream",
     "text": [
      "0\n",
      "100\n",
      "200\n",
      "300\n",
      "400\n",
      "500\n",
      "600\n",
      "700\n",
      "800\n",
      "900\n"
     ]
    }
   ],
   "source": [
    "trials = 1000\n",
    "etas = []\n",
    "params = []\n",
    "range_om = (1e-6,1e6)\n",
    "range_om_ext = (1e-6,1e6)\n",
    "x_dim,y_dim,derr = generate_derivatives(data)\n",
    "np.random.seed(61)\n",
    "for tr in range(trials):\n",
    "    if tr %100 ==0: print(tr)\n",
    "    for rn,rho in enumerate(charge_densities):\n",
    "        for drn,dr in enumerate(drs):\n",
    "            etasL = generate_etas_fpd(xlabels, ylabels, derr, rho, dr, range_om, range_om_ext)\n",
    "            etas.append(np.array([etasL]))\n",
    "            params.append([tr,rn,drn])\n",
    "            \n",
    "                "
   ]
  },
  {
   "cell_type": "code",
   "execution_count": 57,
   "metadata": {},
   "outputs": [],
   "source": [
    "sigma = np.zeros((trials,len(charge_densities),len(drs)))\n",
    "for k,etas0 in enumerate(etas):\n",
    "    sigma[params[k][0],params[k][1],params[k][2]] = np.sum(etas0[0]**2)\n",
    "  \n",
    "hbar = 0.658"
   ]
  },
  {
   "cell_type": "code",
   "execution_count": 58,
   "metadata": {},
   "outputs": [],
   "source": [
    "### Plot preparation\n",
    "\n",
    "def prepare_plot(figsize, height_ratios=[1,1,1]):\n",
    "    fig = plt.figure(1, figsize=figsize)\n",
    "\n",
    "    gs = fig.add_gridspec(3,1, hspace=0, wspace=0, height_ratios=height_ratios, width_ratios=[1])\n",
    "    # gs.tight_layout(fig, pad=0, h_pad=0, w_pad=0)\n",
    "    ax1 = fig.add_subplot(gs[0, 0])\n",
    "    ax2 = fig.add_subplot(gs[1, 0], sharex=ax1)\n",
    "    ax3 = fig.add_subplot(gs[2, 0], sharex=ax1)\n",
    "\n",
    "    return [ax1, ax2, ax3]"
   ]
  },
  {
   "cell_type": "markdown",
   "metadata": {},
   "source": [
    "### Distributions"
   ]
  },
  {
   "cell_type": "code",
   "execution_count": 109,
   "metadata": {},
   "outputs": [
    {
     "data": {
      "image/png": "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\n",
      "text/plain": [
       "<Figure size 216x576 with 3 Axes>"
      ]
     },
     "metadata": {
      "needs_background": "light"
     },
     "output_type": "display_data"
    }
   ],
   "source": [
    "%matplotlib inline\n",
    "def plot_distributions(axes):\n",
    "    plt.sca(axes[0])\n",
    "    plt.subplots_adjust(left=0.18, bottom=0.16, right=0.97, top=0.94)\n",
    "    xses = drs\n",
    "    color = [\"b\",\"orange\",\"g\",\"r\",\"purple\",\"darkred\"]\n",
    "    labels = [r\"$5\\times 10^{9}$\",r\"$10^{10}$\",r\"$5\\times 10^{10}$\",\"\",\"\"]  \n",
    "    for k in range(3):\n",
    "        plt.violinplot(np.sqrt(sigma[:,k,:]),positions = np.arange(len(xses))+0.80+k*0.2)\n",
    "        #plt.violinplot(np.sqrt(etas2R[:,k,:]),positions = np.arange(len(xses))+0.8+k*0.15)\n",
    "        plt.plot([],[],color = color[k],alpha=0.5,lw=3,label=labels[k])\n",
    "    #plt.yscale(\"log\")\n",
    "    l = plt.legend(title=r\"$\\rho$ [cm$^{-2}$]\",\n",
    "                   loc=\"lower right\", ncol=1, frameon=True, fontsize=8.5, framealpha=0.4)\n",
    "    #plt.ylim(bottom=1e-4, top=8*1e2)\n",
    "    plt.xticks(np.arange(len(xses))+1,np.round(xses,2))\n",
    "    #plt.plot([-5,len(xses)+1],[1,1], \"g\")iii\n",
    "    #plt.plot([-5,len(xses)+1],[10,10], \"r\")\n",
    "    plt.plot([-5,len(xses)+1],[8,8], \"--k\")\n",
    "\n",
    "    plt.xlabel(r\"Displacemt size dr (nm)\")\n",
    "    # plt.ylabel(r\"Noise amplitude $\\sigma\\,(\\mu$eV)\")\n",
    "    plt.ylabel(r\"$\\sigma$ (\\textmu eV)\")\n",
    "    plt.xlim(0.38,len(xses)+0.5)\n",
    "    plt.ylim(-0.1,25)\n",
    "    plt.grid(lw=0.5)\n",
    "    plt.grid(True)\n",
    "    plt.yscale(\"log\")\n",
    "    plt.ylim(3*1e-1,1e2)\n",
    "    plt.text(0.5,3.2*1e-1,\"a)\")\n",
    "    axes[0].tick_params(labelbottom=True, direction=\"in\")\n",
    "    #ax =  plt.twinx()\n",
    "    #ax.set_ylabel(\"Charge qubit $T_2^*$ (ps)\")\n",
    "    #ax.set_ylim(0,30)\n",
    "    #ax.set_yticks([np.sqrt(2)*hbar/0.05,np.sqrt(2)*hbar/0.1,np.sqrt(2)*hbar/0.5])\n",
    "    #ax.set_yticklabels([50, 100, 500])\n",
    "    #plt.title(r\"Density=\"+str(charge_densities[inda]/1e9)+\" (1e9cm$^{-2})$\")\n",
    "\n",
    "axes = prepare_plot(figsize=(3, 8))\n",
    "plot_distributions(axes)\n",
    "plt.savefig(\"fig3.png\",dpi=200)\n"
   ]
  },
  {
   "cell_type": "markdown",
   "metadata": {},
   "source": [
    "Ensamble average"
   ]
  },
  {
   "cell_type": "code",
   "execution_count": 122,
   "metadata": {},
   "outputs": [
    {
     "data": {
      "text/plain": [
       "[array([29.20737016,  0.05051572]),\n",
       " array([43.45938821,  0.2060422 ]),\n",
       " array([ 1.03853454e+02, -6.02927168e-02]),\n",
       " array([ 6.39740301e+01, -3.34611631e-03]),\n",
       " array([ 1.48150806e+02, -7.23733792e-02])]"
      ]
     },
     "execution_count": 122,
     "metadata": {},
     "output_type": "execute_result"
    },
    {
     "data": {
      "image/png": "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\n",
      "text/plain": [
       "<Figure size 216x576 with 3 Axes>"
      ]
     },
     "metadata": {
      "needs_background": "light"
     },
     "output_type": "display_data"
    }
   ],
   "source": [
    "def plot_average(axes):\n",
    "    plt.sca(axes[1])\n",
    "    # plt.figure(figsize=(4,3), facecolor = \"w\")\n",
    "    plt.subplots_adjust(left=0.13, bottom=0.16, right=0.98, top=0.98)\n",
    "    xses = drs\n",
    "    color = [\"b\",\"orange\",\"g\",\"r\",\"purple\",\"darkred\"]\n",
    "    labels = [r\"$5\\times 10^{9}$\",r\"$5\\times 10^{10}$\",r\"$5\\times 10^{11}$\",\"\",\"\"]\n",
    "    popts = []\n",
    "    for k in range(5):\n",
    "        # args = np.argwhere((V > 0) & (V <= 1.5)).reshape(-1)\n",
    "        xspace = np.arange(len(drs))+1\n",
    "        yvals =  np.average(np.sqrt(sigma[:,k,:]), axis=0)\n",
    "        f = lambda x, a, b: a*x + b\n",
    "        popt, _ = curve_fit(f, drs, yvals)\n",
    "        popts.append(popt)\n",
    "        if k <= 2:  ##not nice\n",
    "            plt.plot(xspace, yvals, \"o\", ms=5, color = color[k], alpha=0.5)\n",
    "            plt.plot(xspace, f(drs, *popt), color=color[k], ls='--', alpha=0.5)\n",
    "    \n",
    "    #plt.plot([-5,len(xses)+1],[8,8], \"--k\",lw=0.7, zorder=-5)\n",
    "    # plt.plot([],[],color = color[k],alpha=0.5,lw=3,label=labels[k])\n",
    "    #plt.yscale(\"log\")\n",
    "    # plt.legend(title=r\"$\\rho$ [cm$^{-2}$]\", loc=\"upper left\", ncol=1, frameon=True, fontsize=8)\n",
    "    #plt.ylim(bottom=1e-4, top=8*1e2)\n",
    "    #plt.xticks(np.arange(len(xses))+1,np.round(xses,2))\n",
    "\n",
    "    # plt.plot([drs[0],drs[-1]],[np.sqrt(2)*hbar/0.5,np.sqrt(2)*hbar/0.5], \"g\")\n",
    "    # plt.plot([drs[0],drs[-1]],[np.sqrt(2)*hbar/0.1,np.sqrt(2)*hbar/0.1], \"r\")\n",
    "\n",
    "    plt.xlabel(r\"Typical jump size $\\sigma_r$ (nm)\")\n",
    "    # plt.ylabel(r\"Ensamble average $\\langle \\sigma \\rangle\\,(\\mu$eV)\")\n",
    "    #plt.ylabel(r\"$\\langle \\sigma \\rangle$ (\\textmu eV)\")\n",
    "    plt.text(1,30,r\"$\\langle \\sigma \\rangle$ (\\textmu eV)\")\n",
    "    # plt.xlim(0.38,len(xses)+0.5)\n",
    "    plt.ylim(-0.1,60)\n",
    "    plt.yticks([0,25,50])\n",
    "    plt.grid(lw=0.5)\n",
    "    plt.grid(True)\n",
    "    plt.text(0.5,2,\"b)\")\n",
    "    # axes[1].tick_params(labelbottom=True, direction=\"in\")\n",
    "\n",
    "    #ax =  plt.twinx()\n",
    "    #for k in range(4):\n",
    "    #   ax.plot(drs, np.std(np.sqrt(sigma[:,k,:]), axis=0),\"^-\", color = color[k], alpha=0.5)\n",
    "\n",
    "\n",
    "    #plt.title(r\"Density=\"+str(charge_densities[inda]/1e9)+\" (1e9cm$^{-2})$\"\n",
    "\n",
    "    return popts\n",
    "\n",
    "\n",
    "axes = prepare_plot(figsize=(3, 8))\n",
    "plot_distributions(axes)\n",
    "plot_average(axes)\n",
    "# plt.savefig(\"fig3.png\",dpi=200)\n",
    "        # plt.savefig(\"fig3_avg_sig.png\",dpi=200)"
   ]
  },
  {
   "cell_type": "markdown",
   "metadata": {},
   "source": [
    "Std dev of ensamle"
   ]
  },
  {
   "cell_type": "code",
   "execution_count": 123,
   "metadata": {},
   "outputs": [
    {
     "name": "stdout",
     "output_type": "stream",
     "text": [
      "<sigma> = a(rho)*\\sigma_r + b(rho); \t\t a = 29.207\tb=0.051;\t rho=5e9\n",
      "<sigma> = a(rho)*\\sigma_r + b(rho); \t\t a = 43.459\tb=0.206;\t rho=5e10\n",
      "<sigma> = a(rho)*\\sigma_r + b(rho); \t\t a = 103.853\tb=-0.060;\t rho=5e11\n",
      "<sigma> = a(rho)*\\sigma_r + b(rho); \t\t a = 63.974\tb=-0.003;\t rho=\n",
      "<sigma> = a(rho)*\\sigma_r + b(rho); \t\t a = 148.151\tb=-0.072;\t rho=\n",
      "(0.0, 13.0)\n",
      "Var$(\\sigma)$ = a(rho)*\\sigma_r + b(rho); \t\t a = 15.045\tb=0.014;\t rho=5e9\n",
      "Var$(\\sigma)$ = a(rho)*\\sigma_r + b(rho); \t\t a = 16.770\tb=0.008;\t rho=5e10\n",
      "Var$(\\sigma)$ = a(rho)*\\sigma_r + b(rho); \t\t a = 17.741\tb=0.103;\t rho=5e11\n",
      "Var$(\\sigma)$ = a(rho)*\\sigma_r + b(rho); \t\t a = 17.320\tb=0.006;\t rho=\n",
      "Var$(\\sigma)$ = a(rho)*\\sigma_r + b(rho); \t\t a = 18.452\tb=0.015;\t rho=\n"
     ]
    },
    {
     "data": {
      "image/png": "iVBORw0KGgoAAAANSUhEUgAAAOEAAAFZCAYAAABuXUjWAAAAOXRFWHRTb2Z0d2FyZQBNYXRwbG90bGliIHZlcnNpb24zLjMuNCwgaHR0cHM6Ly9tYXRwbG90bGliLm9yZy8QVMy6AAAACXBIWXMAAAsTAAALEwEAmpwYAABhb0lEQVR4nO29eXQc13ng+7vVO9bGRgLgDu4itYFkZMkWJdugHS8an4lJKnmJPbZiEXEy5+UlzxGjvOeM38mikEkmmcxkHNKJ7GTsmZHIxEk8lschZEeiZUUhCS3WAkokuBMgsTXQWHqt+/6o6kY3urq7qhd0g6wfDw57qeV2d3313futQkqJjY1N5VAqPQAbm9sdWwhtbCqMLYQ2NhXGFkIbmwrjrPQAhBB+YCfQDfRLKfsqOyIbm8VFVNo6KoQ4ADwrpQwIIc5IKXdUdEA2NotMWaejQgi/EOKIEKI75bUDQoge/X+/lPKoLoB+4HQ5x2NjU42Ue024E2hOPBFCdAF+fcr5LHAoZdsngYNlHo+NTdVRViHUhW085aW9QEB/LwD0AAgh9gJPkSKwNja3C4ttHW0hXSibhRA9aFrwa0DvIo/HxqbiVNw6qmvLnMaY2tpaqapq8nlzczNNTU1FnTcej+NwOIo6Rqmwx1K944DSjOWtt94alVK2Gb232EI4RgFTzq1bt3L6dGltNgMDA2zZsqWkxywUeyzVOw6YH8vn//fn82779Z/+uuHrQohL2fZZ7OloH+CHpH/Q9gnaLFkGxgcYGB8o+jhl1YS6wWUnEBBCBKSU/UKILn0d2A08nmf/R4BHNmzYUM5h2tiYYqGWS2jGbNrPLGUVQinlceC4wWtgQgtKKb8DfGfnzp05hdXGphJIJAJR9HHs2FEbmwIpVbSZLYQ2NhWmqoVQCPGIEOLo5ORkpYdiY5NBXMZLcpyqFkIp5XeklAcaGxsrPRQbmwyi8WhJpqRVLYQ2NtVMXMZLog1tIbSxKYBQLERcxomq0aKPZQuhjU0BXJu+BkAkHiGmxoo6VsVjR3NhO+ttgLzhYsU6y60SU2MMzQwBmq9waGaIVfWrCj5eVWtC2zBjs5CB8QHeGX+nomO4OHkxTftdnrpMJB4p+HhVrQltbCBd033ue58jqkYXXfslGJ0b5er01bTXomqUt8fe5q62u1CEdb1W1ZrQxmYhUv9XCaYj07wzZqyFA+EA5wLnCjqurQltlhRxGUeVav4NC+Xrn8h4afXsLPEfe4hHp7lTSl77xO8Z7np9+jpOxUlXY5elU1a1JrQjZmwWElfjRVsjLTH8Bp7AWaaj06Yc85enLvPexHuWnPhVrQntLAqbVFSpElEjqFIlGAlS764v/Uk+/920p7G/2sPUzDRvfPx3TR/i2vQ14jLO5qbNCJE/y6KqhdDGJpXr09eTU9GLkxe5s+3Ogo/16JGXc77/TO/9RNUos5Hpgo4/PDNMravWlOuiqqejNjYJomqUy1OXk8/HQmMEQoGSHPvtoSneHprKeH1sbgxZxPpzeGbY1Ha2JrQxpJh6KqVGlSoDYwNE1HRf3Dvj79C9vBuPw2P5mM/03p98nNCKqa8BhONhvEUEaIfjYVPb2UJoY4pELZUtzWUqvrTAKrl6dhZerkEimYvNsioeZWyBVTIcD/P6zde5d9m9uByugk8twTA/PhgJ0ojUt7BOTI0xG52lxlWTc7uqFkI7bK1yLNRyn3nuMzgV5+Jov+E38MTjUHMvoViIaDx7kPRsbJY3x97k7ra7C3KU52Iqok9Ri3BLBiPBpS2EtnW0eojLOM5yXi6pVsmvf4LwTJCp/X9lqprZZHiSs+Nn2dqytbBzZ1GFhUxzCzmGbZixMUUubVQOVCl5d+Jd09vfmL1h2hCykGwROOsb1xd0vAStvlb8Xn/e7WwhtMlLXI0Tk7HyRqosoJDznQucK+hmkc324vf6qSlQGzZ6Gk2vn6t6OmpTHczEZoDia6rk882BZqFMOOStElNjDE4Osrl5s6X9ci353MKBy6KqavQ0cmfrnTgVc+Jla0KbvIzOjQKUJIs8wdtDU7x9PdM3F1fjzMXmCj7u0MwQk2FrYY5SyqzaEKniQLC5yZxg17vrLQkg2Jrw9iZLsDIvz1vzZn/hGFeDWupOJB4pKlxsoW9OSpnhmxueGS7KNwda2Fijx1oOquG6UFVBjYFU6KjrIBwPc3HqYtZjeJ1eywIIVa4J7QDuRWb4DTyBeWOIisqbo2+mTQ3fHH2TUCxUmvMZxFUmj70ITvK8hAKABP3zr2lYQ4u3xXBTRShsb9mO2+G2fJqq1oS2i6LMLAhW5umfJjwXpubz3yWuxnlt5DVmI8G0TcLxMG+MvMG9y+/FpRTuIM9Gg6eh+GO4rR0jq7jPjukbqBCdQ7h8bGrexCtDr2SsWVfVr6LOXWd9sFS5ENoUj1ljiMa8Zro0dYngAgFMMBub5XzgfNHRM0bpPk2eJoJCUKgdViDorOu0OJAsryeEEGBmFPyr8Dg8rKxbyeXgfByrU3EWVWPGFsIqIzVm06jhSLERK4lA5Ts6smuL2ehsRgmHhQzPDNNR22F57ZUPIQRexc00hU0p22vb8Tl9lvaRGMx+41GYC8w/n9WEEKCjriNNCJfXLLe8DkzFFsIq5uz4WaC4eM2Fho9swcoJJJI3R39iykXw1thb3NN2T96wLKu4hKOgXkeKUFjdsNryflJK1IVCODdBmopM0Yo+py/t5rOsZpnlc6ZiC2GVkarpPvu9z6KgLGK2QpxIPGLaRRCJR3jt5mvcs6y0giikiktYb0+9qn6VZS0IoEoDC2WqFgRNM0ZmwF0LaNEwoAm+1TXoQqraOmqzeEgpmYnOWi6iFFEjGRZU8+fM9oaKApbWWfXuetY0rLE8Bm0cBn7CkIFFPjTv10wIoVNxmsqez4UthFWMlBK1YBOFNW7M3iAuC6vdMhubTVaktkI8mxRKFaRkXe0KUz5Jh3CwtXlrwVkUEi1WNYmq6u6JBcxNJB/6nD4UoZTEQmwLYRWjSnXR4jWvBq8m/WGF7m+1Q1E8nmV7vZCTEg5yR8sdeY0eW5q3FDUdVlWZLoSzo8kxpDE9rAmojkM4cBQwbV6ILYRVTDmE0Oiyj6pRpqPTRTvIrYSbacYQg/PFwpCIUZ2bwOf05QwZ66jtoK2mzepwkyQEUE39micuGm8cC2uCqONQHCXJYaxqIbzdI2ZK1XorFSNtpaDorpDiwsUcinmtkDVfPWXKl3jcVtNGe217xqY+p48N/uISvoPhGBKIqyqqKmF2PN0/uJDR95I3q1JoQahy6+jtHDGjSpWYGit5trg0SGB1KA6avc1FacIGd4OlJFgpMdaEKcYPwlPahkKw3r8+GUieYFPTJkuCb8TkrBaULoGpUBT/aPYcxs+/9Rfag7ePgNPD+cB57fUU324hluyq1oS3M9eC15BI4jLOjZkbJTtuNjFb27i2qDXhusZ1lrZXs2UupFol1ZjmFgBciovV9fM+wCZvE03epkKGmsb47HzxqMnRoXRNnI2oNu3e0rylJDV3qloT3q6Mzo0yODmYfH524ixep7fk0Smp1LvrmVOczMWsa8OO2g7LAmEYpaKqmUIwOwYeLSazo64DgUAiWVG3wvI4F6KqkokUIZwbPgs5vuKvb/ul+SfLtycjaIrF1oRVRiAU4O2xt9P8dapUeWPkDaYLLESbSi6Xllc4USz6vOrd9Wxs2mh5HFJqjV3iqaEqMyPzRpkEwXlDiEtx4VAcCIQ2fS6SqVA0aaEVaoxwcCx9PLkYHyxq+p6KLYRVRDSutdgysojGZZy3xt4irhZnqMkqYtE5BBKXcJpe27kUF9tbtxe0bk1c6+FYyueZMohXnRuHyGzyqVNxlswqOTo9rwUdagQpYSZi0lcandWMOCXAno5Wgiw1NqOxWe6IR7J2/ZmLzXE5eNny+isVI8MMkFx7CSRbm7fy2shreY+1uXlzwRXJVF0K5yJxatxO3fw/Yrzx1DVo1bStQziQojQaKDkVlSD0qgHBUIwGr0kHfPA61BrnF1rB1oSVRk+kjakxU91erwSvMBOdKfh0hhZJSAohUsXv9dNR25HzOK2+1mToViEkomXmoromnLxKVrPR5JU0t0AptGA0rjI1pwmeIqPJ4wfnLEQNTd8syZTU1oSVIK3G5scJzczw+sf+gykhVKXK22Nvc++yewtKn4mrEpeRVX9BRvu6xnXcnL1p6KdUhGK5B99CEtPRuUiqEGYhFtby+eraEEKURAgnZiNJ+REp0TGhWJxoXMXlMHGOeERzo3iLM5jZmrDCSCCiRi31PJ+JzmjGmwLuwnE1S4h20uijvet2uDW3hQEr61cWFSYWisaTY58Ox7S1VXQ2906TWv6e0P8Vy8TMfNEqZUGI2nTIgjacGc2/TR5sTVgmzLTeApiNzhTU+Wc8NM65wDnLlkktRMtADBOpO1ImU3ZW1K3g+vT1tHA0t+JO89cVQjDlIp8Ox2Dyes7tk05yn58BvSBwsQ7ysWktaViJhzMsslOhKE21JmvFmPEr5sHWhItAttZb46HxoipbX5u+ZtltoRpFqoSmtKlVghnNQKIIJcMItKZxTVFZ5ACTc/OfORIOE5nILYRJ4pGSOMhnIzFm9WmwM5IZEhkMxczPMuYmil4X2pqwTJgp7zc2N0ZbkfGa46FxSwWGDHPnphdE5ARvQNNaANp8bXidXkCbCrbXZMZwWiWQ4iD3zN1k2hGhOYfmSTrJ3bWwbnfR5x8Nzp/fGc28OcZUyWwkTq3HhHioMW0qrSf7FkJVa8JbPYB7vjRf4YIYipsvP5hYD6adTUrNBZBKim9OiHnBczvcRcdqRuNqmib0zl4nGDI5G4jMlMQ3NzYzX7/GGTNei5oeE0C4uCCKqhZCKeV3pJQHGhvLF661eGQaE0qRuWDFSBHT83XSplozo8lYyDQmryQftvg0X1gpElgnZlKtknGc0aC16V/KuApBVSWB2RSjTJYapdNhC8aZIuuw2tNRKteVtt5dX/R6wkp9k0RIVtoZJy4Ybxy4As3rweGkzlWHQBStBQFGpucvekXVHlua/gWHoW0rOK0X2QUtdSk1NE1kSRWbicRRVWlOSxWZblbVmrASDIwPmOqJZxkDhaUFJFOwINY4aywltEb1OMmk1pkLZM+dU6PzbgEhcCmuol0DUkrG9FAxISVKijFoyuz0T6pFacOpufTzyCw5gVLCXMykcBWZV2hrQtK13Of/9+eRUpZc8xldvi7FRa3DwxTWG6A4FSfbWrdZclyH9eiUpCIYH8y67eff+gsQCvj8AFwKXkIginINBMMxIjFtSqws6D8fDMXoMLvqmLwCzV25o9Gz7bpACFXFDVm+/9lwHFPmFt1wVSi2EBpgteJYMTjR2m85FScxo7omBrgdbu5qvYtalzWL3Ixulo+rUjO8TN/MvYNUNdeFw83W5gK74KYwnhIwLRYI4WwkTkxVcSombirROc01UGM9k2KhEMZctWQVQrPB3J7Cyt8nsIXQgHIIYdaYTVVFQXDvsnt5feT1vJEzta5a7my9M+k2sELiAlSlJDx6AU+Oz5l0C3j9sMa4ULBVEgm0Ih5BGGSDTIdj+H0m13ozo5aFMByLz4fJ6cRcjYBx1MtMxMR01OEqyj0B9prQkHJUOMuapibjICW1Dh/dy7pzFq+tc9Vxz7J7ChJAKWXSPyekZGbkorkdQ4GSRIVIKZM3AZeBbw5gJmzBwGFUFzQPk7OZ686ox591+0hMzf67JagpPIg9gS2EBpidFpola6hYZJZkyaPIdM7+dh6Hh7vb7i7YTTA5FyWmG2YUNUJwxsI6dCz72tEswXAsmUCbzS0wY8ktYH0dPWEghFJxIXNEAOVN8q0tvNJbAlsIFxCXcaLxaEHB0VmPqUrjQrdplcU0J3SNq4b1jeszNt3cvBmXo3A/3WiaVTJkzTc3c7NobZiqhbK5BeaicfOZ7QXMVlJLWaQdKseNLfd4hC2E5SAaj6KiEowatwUrBMN4TUgPF0tJaG2vbU9Llq131xddzmE0LWBZJn1zphnJXoXMDKkGETXLRS8lGWu2rFiMX43G1azZEdnGA3mE0NdUsL8yFVsIFxDTS8EHjMqgF4hhZTE1np4GMzsGMV1bCZHW6Wd5zfKizh+KxpkOxRBqNOkgB5i0Epo1Nw4zOepx5iFVC6k5svGnwybH5LLW+CVgMBVNIIWS1den1cLJQl1x3ZgS2EKYwkx0JrkeHJ4ZLpmBxrDG5szogkgLqU37dFLbMherBUeCmuB5ZofTAgOmZi2ufQOXCjr/TDhGODr/Xcac2U36psPFTPSoSGVyLrfVOZc2zDprt4WwtKhSTYuUmY3NcnHqYkmObZi5MGNQTyVFMzZ4GhBoWeTFth0bm9EuQHc4XZOFYvGk89wUM6Ok14s3x/hMugBIh1sLBDA6RSRuLoDIYjb7ZJ6yFbmEUDXShe7aol0TCWwh1Hlv4r2M9tCXpy5nVH0uBFUmBDHlx5wzyAZIeU0RSkkajkg5X1vTabDOtRSoLOP5M+ANWCiEQFaLpJQ5ujWl4rNW5zRfVoRUHDnXqhnUlkYLwu3krM9S4Qy0lKLlsTmGDKqcvTP2DjuW7yhKGyXWFZG4isfp0CI+IgbFmmJhPv/cZ0EPlL4cvFx0qNjUnO4akBJFjQLpF1owHM2Zy5eBhTIcoH32cQOrpCqcODA+lmYMyRGS5q6zZBAJReNJ90wuop4WPHPDGa8bC2HxVtEEt6cm1CucgWaIydVNqBT1PhPrwXBi6hccyr5xykV+R8sdbG0pLlxsPnfO+CK0VE8FLLsGpkIxwxZoxfnmrDnIzfofI57sa+946jRccVrWxLmoCk0ohNgLdEkpD5ftJGkVzj5BeHYG12f/ntM3Tqck1xozE51hYGKAbS3bLJ82EptfUYSjKnikliaUha/fcQDWPQxmYihNkDDKZCMal8xEYtS6zV4K1oKmjaJUIGGRNP6MqiqzvaVRY63Wp1lXjCaExjme4ZhKjVuZP3+Jfh+oEiGUUh4XQhwq9jj5iivBfNkJKSVvjr2ZVwATjMyOcNF5MWsFsmykVpgOx+KabzDXuioW1jLdS9DnYDocmy+qlOOqnpiJmBdCi5kLgRxWSTWHNsy+LBTgsxozak57S4ebqKveMKwumqrNSzgVhTJPR4UQfiHEESFEd8prB4QQPfr//nKe/+3rxgWWAGJqlMmwtfjDi1MXuTmbJ/NgAanxkLPhGIydy7/T+PmCrJALuTaRPs2Wwviin5iNmI9Usegkn8phlcwVqZJ1NL4mcFgbgxULcDTLlDSW+v1YnA7no9yacCeQ/FRCiC7AL6Xs0wXwENBbqpMtLKS0/y9eRojM1yNqhHiB8aFnx8/S4G4wHUSdapWbG7sKThORONE5rS+Dv/DSgrG4yvXJdCFUHcbGjLgKgbkopiZ5FoLHIzGVUDT7VFC7KRhP/7JmnRQgANG4eSGMeJqpmb6Y8XpyTeiutRwokI+yakIpZR+QaovfCwT09wJATznPb7R8kVJaauu8kLiMc2nKvNM6NVxLjrxrHMhtxOh7WlRNgQxPhTIMIjFndr/WaJ61I6Cl7ViwSuZ1CwhBNEt5jqzT0QKE0JTLQyfmbjDMtk/OFEqQNbGQxbaOtpAulM2QNMx065qyrMxEZ4oOzh4Pmav4paoyWbZBiYchNme+ZEI8kr13ugmGJjOLD8Xc2R3cpoKnLfvm8s82sk3/YL4wVRKHGzzma+oksPR7C4Wo2595jMSDAhKJ81E1hhngeLb3h4eH2b59e/L5/v372b9/f97jzs1qBpCBgZRImOgsayMqUoXQ9cwLVQ1rP7zRewlChBiYyl+HJhSNEwrMIaNhZDxMIOJiYCROqltudUQSVWFgxOCCHT0LTWHLlrhoXGVkPNP4E43HiEltehCIZK7HZqISKYXxWADmYhA0X3/n5lSISBb3gIxqmndqzklkwVhiUkGV8PbNGO7UnhAeH5w9a/r8CSYDc0RyTYv1sUTGNKt1IOLArY8pMZZrQcFUJAbxMVAClseQi8UWwjFS1ohmaW9v5/Tp05ZPVvOCln6zZct8xeZgJEj8JQU1HsPbmbm+UYa1H93ovQRuh5stnfmrQF8Zn2XUEcShTOBQVfzuKE1eWNOSEsDsFsxGJFvasvwUy2qShXjNcmV8lhvCeO3pVMZAxvG7M6eKTiQoIstYBKy/B5zmW6EFBsdwZ9GGwqUFKzjb1tNwYzit5oxTqMRQ6KyTtNaljKVjEzR0mj5/gplLE6gGUTsLx+Ju0SzSzkgD/tGbaWNZUS/pbPPDOutuqnws9nS0D/CDZjnVny8qda46vThS4dZHs1kNyaloygVmKX0IYMpkifgUjMLEEmQzzoCe7ZHtzdpWSwIIJtOShMjqJE+3ahaeu+dQrLlVYq565AKDgiJEsuhVqTGtCYUQa4EuNCEKAKellMb2//l99qJZSANCiICUsl8I0SWE6AG6gccLHLcppMx0awkh8Dk8BKX1GEiw1hBlcjYKajyt9VY4pppvvQVaGYd4VDOKmCQwl90goipulBzV3bIunxqs9YgPx8wn6Ea8LXgNwsXS/Hs+v6XvIBWnRSFEKMTcDbhS+lQ4hNDq7ZSBvEIohPgD4MPAIDCBbt0EflMI0QQckVL+pdG+Rms9/TUwoQWFEI8Aj2zYsCHfpoaoSBwGJlKXcOAQimZ9tFjQ1myGeygaZzYSxxnLjBGdDsdoqrEQrxmaMt0RNhSNE83hF5NC5AwZM8wYUJyW03bMOsghYZzJdFWkuRaKcJCbvuGlEHOlC6FTEUX3IcxG1tEJIRqFEM8CJ6SUu6SUj0opf0lK+Zv630eklLu0TcVXyzG4Ysvgy+zVlXAKhSaXtVJ16/3rkyXh85EIF1PimVpnYQHavFjIXDBjkdRqbRpjqAnr2y3frHLdCDLOqbgMXRVpmrQIIXQ7CxHC9GvD6XRogeNlIOstUUo5CeQ1QUopvyaEqMpmEdllUEUA2xrX81rwItPR/A09VtWvYlW9+VCym0HNuqoYZB1MhqJaiXWz0yQLmQtm1mFScSERCAOtZyyEuVtnG2E6Akcn4mlJ0zxpx3C4wWvdNZHA6ypACBckHrt89SWNF01F5PKhCCHOAcfQppwXyzICE9TX18sdO3YA8Pu///s88MAD/PjHP+a3fuu3Mrb90z/9U+655x76+vr42S/+BooQ3NE5/wMeOXKEzS9+keOvXOW/nG1FKi6C0WAyi375Ly6npq2GO6/eyT9+8x8BvVK2Xmj3+PHjtLa28o1vfINvfOMbGed/7rnnEE4PB3/nD3nh+/+IIxbiUkATonX1Kn/5x18G4B//1z/xgx+fgcBFVBWU5rX4vG6+97XfAeB3/ut/5/mXX9cO6vKCq4aWlhb+9m//FoAnn3ySl19Oj5VduXIlX/6jr3JlfJb/+tSXOX/2zfT316wn+sAXAKj54SGuXrqY9v59jWP83qfW0PiJr/CZJ/6Iq8Oj2qJa9w/ef//9PPXUUwB8+tOfZmwsPUn4wx/+MF/+svb5PrTno4xNplto3/fQHvZ9/pcB2P9vPgrAqmYtRUyocT7+wDb2/5s9dJ7+Q37ma+cI16/UYlqdbnDX8bnPfY7Pfe5zjI6Osnfv3ozv/otf/CKPPvooV65c4TOf+Uzy9ZgqCYai7P13X+T+D36EKxfO8af/328k37+iu3N+88n/h+77d3PunTf56h98GVckgG/mClIKnMs28ft//Gemr73f/d3fTXvvhRdeOCOl3JmxE3mso1LKDWhrt8NCiFNCiC8JIQq/JVkk0RotFittCcJkJIoaRwhBras2a58Fh3BYziW8Fkidghrf5ExXdwZLvSpyhYmlojqyu2DS4iRzWFNLiRQOsrZfKbIblFW7DKAtUVOD3kvQDCfrqaxEEwghHgf2oV1ZfyGl/Ha5BpbKzp07ZSF+wk/+2UlqPc6M2FG++gCz4Tg1P/NnsPo+AC5NXeLC5AX+U/9/AuBXu38VgaB7ebfWPckkUkp+dG40WVOlNnCW331R81f+3s70td3WjgY8L/wOsxFJzce+kv2gDZ3Qcbep85+6OJ41fQjg8Pc1Z/vBni5abvwo7b0Nb/wxMang/siXqUlkVXR2Q731QlMjwTCvXwnkHccTH533tzaMvY47PJYcx7XuX2dbZyOsewjcxZX4+OezN7Mm9hqNBaBx9FW2nv5/iaPQ+IW/L8hHmUAIUZgmXIiU8mtoAdcXyBHhUi0YfuWhyfnE1LmJZIWzVfWr0soMglZ60IoAglbfM7Wokcjhj0xtVpkTC4m0Zg0iWtqO8aQmaZQUiuXcvQQuh3X1szBczKEomm+ySAEEqPdaj0uJJzoUC0oetJ2KKSEUQjQIIR4XQpwGngVOU0Dky2JjqOWnUrPaJUxr/ilFKBmGFyuGmARDCzIXck0lAzNRczNNKwHIFgwiEa9xMHI8IfS+ZstpQwk8TuvTt9gCC6nLUTrfXL3X+pQ2MWUXCMjRnqBYcgqhEOJnhBD/hKb5uoB9urviL3XraVkptl12xvUoZWZpiZSIlOW1y5NrQ7/Hb3ktGI2rySK7SXIkwUbiavaUHZPHWIip4+lkC55OHqKIvDmPU7HcuSzmSp91uB1KyXxzBWlCXQgVgeVoISvk04Q/CxySUrZIKZ+UUl4o20gMKMZPqKoyMwxrdiyztfHcRLLokktxJftAFFJwd3Q6nJGLK0XuO7CZAkRWDBNWHAMxV71xom8JhFBRBD6XNW0oFSdx5/yNz+tylEwIGwrRhIpbN9CIgnohmiWfdXS/lPL5xHNdM35If/yhso2qBCQiNtKmpNmK1wYuJx8mhLDJa72Qz82pzDVePEe1aTA5fbSwHrF0qQhBxGPwOQV62pC19fBCCpkCpvrnfC5H0WNIUON24LS4TlUdHhxCFN2hOB+mDTN6VIxAs45CCTPiy0GitksyiTY6l9bvIY3Ja0m3hVNxoqBYbj+mqtIwcHrhFGshUsr8oeQWcuiExTu2Ue6cEJQkb67BV8AUMKXxqc/nLdk0UAhBg8/aTUEqLi2gooxaEKxZR7uklH+b8rx0Nd/KQEi3UCYVTeAKWSdrajS5VlSEglJAZMRUKGoYJRJzN+T9EXMu44RiKZnWarBy1EATKikO+mJotHjRA8T06agAHN7SaMEEfovjUYVTz8CoHiG8IIT4EtAlhHgKLaC7rBRjmJnTndZxqRW+Zepq7h0mtfcTpeetsrANcxKh5CxoBHmMKTWtliyUVtN24s7ajHIOjhIJYYPXZX08Dl0IBVBk+f+FWL0pCIce6F9mTJ9BSvlLwCSapXRQf15WijHMJAq+qqrUDTJ5fHIpBppCSs/nCpzOFTANeTRho7UUIssZA0JkTJkdToflhitGKIqgscai9nEmLJKiLEJoZWZZ63Fq0/syT0ctTdp1Z/3XyjSWkpIQirgqk1ouL5PXAApaiOeq8qwqzrx3VMOAbqfHcs8DT0EZA/W4IoH50/oaShas3FLrZnzafAC6VFwghK4JrbcFz4XToVDncZrKNAHw17jKLoBgLan3n0hfVAWklI+WfkjFE1dlMjZTVVViU0M4c3yXn3/rL7QHQmFgbhiJTOv/APl7QMzlidnUevJlz9aIqiqehfGJ/jWWhaEwIVyQtuMrXVKMpT4XOori0KYHZXCQ+2vc5oXQ59aFsHo0Yao1dD1a+cKqJBiaj0RR1Aiz4ag5P5FU2dLYlbMytBFxVeb196mKGykcWVtFR2IST+pphQKN1iN2vBZ9c5DuFhBQ0ry5eq8Lt1OxVIDX4XAQj8XK4iD317i4Yq5YnqYJyyyAYEEIFzjqLwghPl2G8ZSE1K6sIh5hJhzLKYRf35ayvK1bBit2WDqfmQtMCkGopgPfjPHUOLawQG19e0GtmH1u60KopmocQcmTV1vq3AwFslevW0g5hdCsccbjUvQbmii7HFqZjj7L/HS0CegRQiTrEpRjalpoeYtEKy4h4wgZt9aDb3pEC+q2IAARkxWeQzWd2YVwoXujwOrbNQUIoVScqIp2wWuasLQGkdY6j2khdDkVHA5FmwYWWFMmF16XA49LSQuyT2XHD39BG4dDgR85YfwcHpX01nqpzYVKgJV518GSntkEUsrvAN/ZuXOn6YJQsbhKQBfCRFb7bDhuobiS1Jq2WGjIYrbMetxVR8xVb9isM631lru2YBeBz+VAUay3spjPGCi9VdJKPZ3mGjeizG6BRp+Lm9Hc1vJkdM3y7YRDEUr7jSw4V7Y39JIVMlFRLVfcqBDintIPrTBGpyPJC1Briqmp76lQjBazRoLgsCUhNBX/qRPytVNnIIRpM1qLlc1SEUJQ43Za7juoOnzJ/UttEXQ7FRp8rpy1dRIaqMbtgJGzeFQ1o7FrqTRQg9dlGGIIcOaD39TGs6YJr369XB4YSKtdW2qy3nL0LInDubLphRBr9Wps5e0pYYEbU9q0xxGdTsvDCxh0i83K7JhWZtAklhqO+IxdDmmasL7d9PGMqPMUkjGgT0fLZJJvrjU3tXQ5FGi/k7B/Y1nGAeYyKgrJuiiUnGeSUv6SEOLDwHEhxDrmo2RagEa00hdHpZSvlneY5oirMpko6wmlx4lOh2PEVBWnKZO/hJkR05nUVooaqQ4PUVdDRg+85CHcddp0tAjqvU6GLQYZqQ4PQoiyCWFTjZuLZK8ad+aD38TndvD+DVrmRjm1T77Aci3Ye/HqYucVdz2L4nlITlFZjFzCQhibmU8lcoXT7dBSag580+sTK0JoscFMxNtqIIT6MUrQgLKgBFbFg0MRqGUSwkS0Sq6vym8xuqZQ3E4Fn9uRtTKd1UDvYrFa3mKyWgUQYCwRmSElzkhmcfCpPK260giZ/5hWuzwZJdPKEgphQwFTKVVx6QWRyiOEToeS9+ZgqSBykeSashcynS+Gxe5FUVYSqURKPGRYU9OSsSIya6mshBWyJtMKpST9DpwOhVqLF5LqcJc9YyCfj66QrItCyfX9WP3uiqWqhdBKFsVcJJ6cXiSsoguJxmXe8LJ5JJju5mu114EgmtErUC+zXqLSepZz+RwuLWi6jLGSuYTM6RAF+TgLxdaEJrGSRZFa22VhR51UrJruzWC54QhGlcWEVlipRFjVKrVeb9ljlXPdGBp8rrIZhYyo9RgLvEMRBVXsLgYrmfXPlHMgxTKWktUucxSsNb0uFIrpiA2rZRMgs7KYolDS1ltWhbCx1o1eUKVkY1hIjduZ9bsqZB1bDLVu4/PVuB2LejMAa5pwhxDi+0KIZ6qtvoyqSiZShFALljb+aNPhmLmlnoWokYLK+5WxshhoUyqHhZtDo09P2ynz9ZdtqlfnWWSLpCIMg91rsghnObFyxoCU8qOgVeIWQvillH9XpnFZIhiKpfvqkomqmVpPSpNlAS00ICkkaHphZTGXp6akActCCBq8rrSb00ISUSqgm+UnLuGRlDVOstbjTAuwn3998daDCXxuJaNtQCG/ZbFY0YTJOvR6cm+g5KMpEKPSEjFXdq1iyrluoehsTQHpQ5CeQuSpLX1jK7NTUiH0khYd9xD2byr5OFIx0oRCZJ8elhOfK/OclRBCK5/8iL4uPIIWObMD+EFZRmWRYDhTCDXr46jh9qYCXCwEUCuKZtmz2go7tbJYJYQwESfZWu/hnlV+oPxxkkbmfy3ofHHXYY8eeZlQNM5cNJ7synT4+wPUe104FZHZv6SMWMknfFUIcQA4gNbq+mjZRmURo8iHqMefdXttOprjR3e4LNe7rPM6LQthzDkvhO6a0je7MuumWEyjiFFB4EpoH9AiZ4QQbG6f/+6tFqYqBVZrzEwCf1imsRSM0cUvFVfWTHZVytztsnzNlv1l9Tki87ORWBOWo7IYaAajXLlzCRYzTMvrUjIqdlRCCBdT0+Wjqv2EZpz1sbiaNbM9a292madcfAGdiAqJ9lAd5asslsBMWY/FzBgQQuBdYE2uMVib3U5UtRCacdbP5JgCZhVCSi+EhUzppOJECr22W5kajuTTcl6XoyAXSzF4F2g+r7uqL8Oys+Q/fa7SFYbxmYn3skmh0wMe6zVWConXBEAoiDKWWs+n5RZTCyZYWBFusW8C1caSF8Jc2dpSiKzaMGvmQxFZDIWk4iiKo6wNR/LFQS52sDJkCl0hZRpvJZb8p89afl4nWwn6rG6KIoSwkHWhoihlDZr2unJ3I6oGTehexATaamRJf/poXM0bkJ2rhmhGWYoi2kNDYZrQ6dDL6pWRXIK22BkDoJUTTOB2KovuI6w2lrQQ5tOCAFI4kh1XFzITWSDAvuaiyuzVuJ24LE6tHGXWhJB9yqkohZVILBaPY/6c7tt8Kgq3gRACRLzGU8wM/2Jd8VntVtpvLZYWyOYC8LoWP2MAwJXSk8ByA5tbkCX9DZjtKRDxGrd9zoi0qbPeInshVtaFWuaCQrmnozVZgqMrEa8JpBXbchWQBnarsaSFMFcnpFSibj+qgYEmLYLe02CpLXU2LAvhIvQ6yDblrMRUFNIFz9aES1gIpZQZaShZEYKIJ9PgEo3L+XbaJdCCkMgQN7dtUmDLLIdep8NwTJWK2UwtrWhrwiUshNG4tFSHKduUNNkDogTrQdACgM343oTQrZaL0HpLUYRh4HQlElgTJC48c3Vgb22WbNCelYK7kOjNLlgYsKZKqUXJlDCrvcHryuk62fHDX0BRBM5/ccHNd/DE42VNpAXNLbDQELXYtVRSEfpPYdWafCuyZL8Bq0Y9qbgMKpzpx6kx1pKFYiaFKFkcqv0uwk2bS3p+I4xCwyoZLpaYjjoqYJ2tNqpaE+ZqjVbIbxf1NKW1hQa9NXYRDnoj8hW5PfPBb7K5vZ7aZi1zotyJtJDZPNTpEBXJnVtINYyh0lS1EOZqjVZIqNPCMoOgXwQlFsI6jzNvyffFDhdbGCpWSEdfq4RCIYLBzA5UAB/bUIuqSuaCE4yEMscipWRkZMRgz8XH6licTicNDQ04HOa+46oWwlwIISy3YY66GtJqkjoUcLh94DKOqCkUh6K1J8vlQlmscLFHj7wM6CF+4ViylMPv/K+3k2MoV4Lr7Owsfr8fl8tgZuANoKqS1pZWagy+i1gsRltbaYxlxWJlLFJK5ubmmJqaoqnJXImUJbsmhAL8XIqDuCuluJLTUdJan6nk0nS+Re76A/M3hs3tDWxub8C7CAaReDyO05n7ZlMNcaODg4P09/dz+PBhAoFAUccSQuDz+YjFzBeZXrKaEDQTu1H5vFyk1vv0OBXNSV8GcrkpFjNoutJlHLKFxSVeVgpY3Pf29rJjxw4OHDhQzNCS9Pf3s3fvXgCeffZZDhw4wOHDhxkbG+PQoUOWj2c1FHBJC2Eh66pUIaxxO0vqmkglVx3NSuTwVQNHXzyffDwyFUYFvv7ShTQj24Hd6/MeZ3BwkCNHjpRsXAkB7OvrSz5+4okn2LNnT8nOkYslfTWYqZ+ykNSCuz6XQ2vKWQaqqeFINdLh9yFl2RNIMjh+/Hja856eHvx+f1IAm5tL1w/ELEv6aqj3OlEUUM3bZtLKDPq87pIbZZLHdjmyjq1S4WKVxoyWS/DNb36Te++9l0AgkNRORvT29jI+rjWEffLJJzl48CDd3d309fXR29vLmTNnGB8f59ixYwCGx+rr6+PQoUN0dXWxZ8+enOcrB0taCBVFUOdx5SxxsRDpcGvFlSQ4PMW1pc6FEFqvg9lwZnxrpQKnlwr9/f2sXr2anp4e9u3bl1Uojh49mrY27O/vB+DQoUMcPHiQQCDAkSNH8k4re3p66OnpKe2HsMCSto5CoY0lFb3WZ/FZE7kwis10ORU7cyAPTz31FLt37wa09V82zpw5w86dO9Ne6+rqAqClpSX52O/3F231LCdL/moopKSEFFrl5XLV+kxgpPFqbS1omv7+fh599NGs769fv57Tp09nfX+psOSFsCBNKBStAneZan0mMMpcWIxIlaVMQvO9+OKLnD59mieeeCLrtk888QRnzpxh37597Nu3b7GGWHKW9JoQtIva63KYzy0ErdanBBzlFUKPQZZCJTMXlgIJg8q2bdvo6OjIu/1CV0XiearwJowy1cotcUVYnZImY/rKrAmNtN7tXug2H+fPn6+okaQS3BJCaHVKmgwZK6KymhmMitra09HcmIlQ6erq4ujR8jYFO3z4MN3d3WU9R4IlPx0FaLSqCRUHcYAshYFLhcfpyOhAZE9Hi6eU0TLZyLUWLTVVIYR638NBAClln9X96/X+7PF4/mx7RQHHImlCMCr5bmtCm3QqflvWBbBPF76CTFyJ/uxmaPC65gNsc1TnLhWpxW2FsAsb2WRSViEUQviFEEeEEN0prx0QQvTo//vR2m6P6293FXous+vCZJlBUb5OSKmkOuadDqUixXZtqptyq4KdQDIiVgjRBfillH26AFrPE8mCJSFcREFIrQBwuzc+sTGmrFeFPsUcT3lpLxDQ3wsAPcAZ5gU1e4xSHkz3Z08W3F0cQXSnlHxPfWxjk2CxDTMtpAtas5TyqD41HQQKNnuZ6c/uciqL7iJwpWlC2yizFHnjjTd46aWXgPnUp1JSFdZRKWVJnD4NXhcj0bDhezt++Atan76XXDD8Bp54LL3WJ5Sl3meqELpsTVg2AoEAO3bsSGZeWHX49/X1ceLECQ4dOkQgEKCvry8pbJcvX2bHjh2Mj48nM+9LyWIL4Rgpa0SzDA8Ps3379uTz/fv3s3///oztZmcjRGYiyedSF8jI2BXUaBhVFczGo9CwgWg0gmt2Nm3/ywMDVoeWl5lwLDmO8WsXGAhkRumMjo4yUIZzF0IpxyKlJBaL8Ud/ZD1xOhJx43YbV2r70pemM16bnJzkW9/6FmvWrAFgaGjI0vm2bdvGX//1XzM0NMSf//mf88lPfpI1a9Zw4MAB/uN//I/E43Hee+89hBCmjh0IBBgbGzN17sUWwj60dSC6YcaUT7C9vd1UtPxIMMzrVwLJ58I1A4C7ZRWvfuQYd61spLFBS+IdMKj1WY7Kn+MzEcQPtB+jc80G1rZm5jAajaVSlHIsIyMjtLW1UV+ff9uFBINB6rPs2NGR+brP5+PNN9/k6tWrQHrybl+fdpn19PTQ19dHc3OzYTRMTU0NHR0dnD17li996Uv4/X68Xi8XL15kcnKSyclJ01rQ6XSartBWViEUQuxFs5AGhBABKWW/EKJLCNEDdAMZ9USLIV/NmboKtIZObVVtF7otH36/Pyl4CxOBE8J38OBBHn30UcvhaKtWrSprvZmyXpVSyuPAcYPXwIQWzFWB2wivy5E1csaRpSlKuXGmCN7tmsz7la9Y32doaNpQ42Xj6NGj7N+/H7/fb5gIHAgEWL9+fbIURi527drF+Ph4ck3Y2FieYmAJqvqqkFJ+R0p5wMqXUJ+liFKtx1kRR3mq9rM1YfnYv38/g4ODHD9+nCeffDLtvb6+Prq7uzlw4ADNzc3J6Wkqx48f5/Tp0/T393PgwAH6+vqSaVXlpiqso6UkWy3SijXETIngdtpCWDb8fj/d3d2GU81US2m2qejevXvTprCpaz+rRh6r3HJCmK3e52LX+kyUnwe4Mj4HwON/czqpDStdlNemeqhqIbS6JoTs5QQrWeHsrpXlXVPYLG2qWghzdWXKRm2W7rOLLYS2prMxS1UbZgohmwW0EpZRGxszVLUmLARFERkxpC6nsuhdkGyqj6NHj9Lc3MzevXuTnZigPPGgVqjqK1MI8YgQ4ujk5KSl/RYGaS9GGzCbypNwyIPmFzx+/HjS1QCkFQo+fvx4svJ2uevV5KOqr85C/IQA3gUlJOziSrcHPT09yUrbR48epbu7m56enkWpSVMMt9x0FDKLKdlCWGHe+IrlXeqmgzCSJWLmrvzHO3XqVJqvLxAIcPr0ac6fP5/0CSY0ZKmzIqxyiwrhQk1Y1QrfZpFIFbaurq5kr4pKc0tene4Fa8CFz21ufRLxnwkqaXjJR1VrwkKc9ZAZKH27Bk5XDSamjwuZHhqi3kQZ/FQWxn8+++yzdHV1LUr8ZzFUtRAW4qwHWxPeruSK/6xmbsmrc2FVM7vKmU01c0tenQsL7NpCaFPNVPV01CqpmQuTc1GujM8Cgp/72r8kX7djOm2qjVtKCFNp9Lm4a6W/0sOwsclLVQuhVeuoreVsliJVvVgqNGzNxmYpUdWa0MamWihnBkZVa0IbG7Mkqqn19vYaFnLKRyUzMGxNaFN2vvLPX7G8T67iv1952Ph4J06cKDgetKenh2PHjgGa1tu7dy9dXV3s27ePP/uzPyvomGaxNaHNLUN/fz/Hjx/n+PG0UrdpGq2vry85lczGqVOnaG6e79YwOTnJ6dOnOXXqFEAyA6Ovr68kUTm2JrS5JShnBW4obwbGLSOEgUCgqiPlb2eyTR9zMTQ0RIeFAG67AneZsFLewu/3V320vE35WMoVuJFSVv3fjh07pBlOnDghjxw5Ymrbd955x9R2i8GtOpabN28WvO/169dLNo5iKWQsCz87cFpmub6rWhNmY3BwkN7eXvbt25e2CE+1cNnYLBWW5Jqwq6srWbxnz549aYtwM3N+m8VDSlmRRjyVRFN85lmSQgiaOfr06dMZi/BU07JNZXE4HMRiMVwuV6WHsmhIKZmbm8PpNC9aS1IIjx49SiAQ4MCBAxnl7GxNWD3U1NQwOTlpWTOAZs20ciGXE6tjcTqdNDQ0mN++kEFVmq6uLg4dOmTYE9ysJnz22Wf57d/+7VIPrSBu1bF4vV68Xm9B+371q1+tmu+k7GPJZrGppr9yWEe3bdtmarvFwB5LJtUyDilLMxZuNetoNo4dO7ZkivvY2CQQsoD5+mKRSOptaWl5fO3atSU9diQSwe12l/SYhWKPpXrHAaUZy5kzZ6SU0lDpVbUQJti5c6c8ffp0SY85MDDAli1bSnrMQrHHUr3jgNKMRQhxRkq50+i9W2o6amOzFLGF0MamwthCaGOTBVWqvDv2Lv968195d+xdVKnm36kAyu4nFEJ0A8mwFillQAhxQH+tC3hWShko9zhsbKygSpWn+5/m5OWTTE5N8vzY8zy4+kEe634MRZRWdy2GJvwacAE4pAtgF+CXUvYBzwKHFmEMNjaWODd+jpOXT7LGv4aVtStZ41/DycsnOTd+ruTnWoyImaeklKn1BvYCAUhqxZ5FGIONTV5CsRCXApe4ELjA2dGzAEmtl/h/eHqYTS2bSnrexRDCLl3QuoHjQAsp01PAjri2qSgvX3mZn9z8CUPBISQSp+KkydsEkFwHJv5vr2sv+fnLLoRSysMAQohB4AiQu8qOjr5uPACwYsUKBgYGSjqu0dHRkh+zUOyxLM44YmqMG3M3uDp9lZtzN/nkmk8ihOCN628wFhpjXd06VtSuYLlvOYpQGHePc+bSGULhEN5pLzvadhC7GWNgpLTjKqsQCiH2Al26II6jGWJOYEL7SSmPAkdBc9aX2nF7qzmDS0W1jKWU4xicGOTkpZNcmbpCTI0hEHS2dbJ6/Wpq3bVs3rzZMOdxy5YtnBs/xytvvcJ92+5jQ/OGkhtloPyaMIA2BQXYqT/uA3oAhBB+/bmNTdGoUmV4epiLgYtcmLjAQ2sfYmXDSuJqnLnYHLs6d7HWv5Y1/jV4nfPZHdmSjhWhsKllE+oyteTrwFTKKoRSyj4hxAEhxDiwS0p5EEAIkbpOtNSF18ZmIcFwkO++910uBi4SioUAaK1pZS46B8DGlo1sbNlYySHmZDHWhIk64cdTXks8trWgTRqqVDk3fo5/vfmvKG1K2hRQSsn43DgXAhe4MHGB9rp2HlzzID6Xj7HZMe5ou4N1/nWs9a+l3mNcvbsaWZJJvTa3Jrkc5N8/933eGX2HqfAUAA2eBpbVLgPAqTj5lZ/6lUoOvShsIbSpGs6Nn+MHF35Avbee0fgok+FJTl4+ye61u4mpMVY1rGJd0zrW+dfR7Gu+ZQpI2UJoUxW8Pvw6T7/6NG+NvEWTr4lwOMyKuhVJY8sjmx+p9BDLhi2ENotKalTKhYkL7N+2n5aaFhyKg1WNq+is72RL6xYiwQgtrS1cClwqi4O8mrCFsEhK1QPjVu+lcXPmJv8w8A9cD15PRqWsblxNJB4BYPuy7dzRdgd+j19bE85OMh2Y5sHVD7Kh2Vy79KXKbS2EfX19OTvs5Hs/EAhw8ODBjLKL2di3bx+9vb309MyHyx4+fJjW1lYee+wxent7TR+rWompMa5OXeXCxAUuBC5wR9sdvG/l+6hz1+FQHOxes5t1TetY2bASp5J++SlC4bHux9i9dnfZHeTVxK396fIwODiYs8VVoqVWNp566qlkd1czGAnZM888wwMPPABoQlqKzq+VQErJN9/4Jn/woz/gG699gxcvvUhcjSed4jWuGh679zE+uO6DrPWvzRDABAkH+a5lu9jUsumWF0C4jYXwypUraQKY6F/X1NTEvn37TLVc7u/vTx6jv78/2cHn8OHDyf337duXFK6enp60BpV9fX1pWnEp9NJQpcr14HVeuvwS33rjW3zrjW8BWtRJvbuenZ07+bntP8fBDxzk8R2Pc0/7PZUd8BLgtp2Ovvzyy8mCroODg5w4cYJDhw6xa9cugKRw7N+/n+PHj6f1u0jsk69R5OHDh3n00UfZu3dvUkD37t3L0aNHk9XDDx06RCQSSe5TqQri2ZzkMqWXxIuXXuTHV36cjEppq2ljffP65Daf2vKpiox9qXPbCmEqx48fTwrJ+Pg4O3fOF8Xy+/2GghEIBPIe9/z585w/f55Tp04ljS6JblIHDhwgEAjQ1dWVli1QiV4aqU7ywGSA7974LhubN3Jn+51cmbzCL+/6ZWpcNdS765dsVEo1YwshMDY2ltRqZ86cSSsgHAgEDAWjq6srq9Y6f/483d3d7Nixg+bm5jQt2tXVRXNzMwcPHjRsQFkJTfje2HucvHySBk8D50PncUgHA6MDxGWcn1rxU0TiEWpcNdzbcS/3dty76OO71blthfD+++9Prsl6e3s5evRoUjhSefbZZw2revv9/gxt+Oyzz6ZpzgMHDtDb28uJEycYHx9Prvd6e3t5/PHHOXQos7LHYmjCYDioZRrovrpady0APpePOlcdq1tXMxma5Kc3/DQPrX2o7OO53VmMQk+JK3gHcFAvaZFR/Knc41jIqlWrePHFFwFNOxVSPr+rqyttbbh///4MwTJyOezduzdjjQmaoWbfvn2Wx5EPVaooQiESj3D0zFFGZ0cB8Dq9rPWvpbWmlZOXTuJ1etnQuIHmumbCsTAd9eZ7xtsUTrmTenvQGmH06wm+XwP26f8nKq1VrNF8V1dXTif5QuvlQg4dOmTJT5iPY8eOleRYqVEpFwMXafY1s3/bftwON6sbV9Pd0c1a/1ra69pRhIIqVS5OXNSc5DOTBB3B28JJXi2UtQy+Lni7pJQH9SprJ6SU64UQexcUf8pJNZfBL0Wky8DAAO3t7QUfJ67GcSgOAP5+4O95ffj1ZFTKqoZVbGndwn0r78t5jIR1tFqc5NWS4Q/lL4Nf7qTe48znEXYzX18mrfiTlHLQaP+lQKlCzawcZ2FUys2Zm/zGA7+BQ3GwsmEljZ7GrFEp2VisLHKbTBatIYwQ4gSwL3X9p2vHI1LKPQbbpxZ62mHGeW6F0dFRWltbS3rMQsk3lrgaB8ChOBiYGOCH139IXMYRCNp8bayoXcHOtp14HJ6yj2WxqIpxSBVX+BIzo+eobd1A1LMGCpwdbN26tTKaMIEQ4gl0AcxS/CmD26HQU2IKOHhzkGVty5JTQFWq3Ji+kbReXpq8xL479rGxZSONwUa8bV7W+ddl1EopBdXwvVTFOKQK55+GiZMEYpP4Z09D3YOw/rGCBTEbi2Ed7QGOphT6DZBZ/Om2Y6GD/J9G/omH1z7Mz9zxMxw9czStVsrdy+9OOsY76jtsq2WpUaPa/4oLokGYeB2m3oEL/w18ncTcK6G2GW6ehGW7oWEJFf/VXRHHgHE99KlPStlrVPzpdkJKyalrp/j2wLfxuXyMhEbw1fk4efkkD655kLuW38WqhlV2VEqxSAnxEESnwOEFdyPEZmD4ee21WFD/fw5WfAJadkFsFob7YO46qGFAX64JBQQQGl5aQiil7AeaDF7PKP50qzMXncPn8gHw9KuaBrw6dZXldctpdDfS4mthOjLNjZkbfHzjxys82goiVQiewxf8V5hSoH6D8fRPqhCb1jRXdAqcdVC7CtQYXPym9lo0OK/llj0I7R8G4YDgu+BqAJcfalZrj2tWatt522DbkzBzCd78PahdA2Pj2vkk4F2CFbhvVxZGpcTUGL9+/68jhOCu5Xfh9/qZi86xqWUTE+MTNNc0Mx2ZvuWzyHOSWIfdeAH/5BjM/gM03akJj6sBmu7Wtnv3zyE8pm2foOkuTQiFA1DA1wkNDeCs1/b16d+rwwtbv5R9DEIBh0cT/mUPws2TOCOTMBPUnteX3ndqC2GJmI3O4nV6UYTCCxdf4IcXfwjMR6Ws869DlSoO4WDXil3s6NzBxNzE7ekgD49BZGJeW0WnwOnTtNLNkxAexRUdg4gPrnxb2771ffNC2LAZUHRt1gCuek2rAQgBXZ8tfoxCQV33GJdmd3P23Gts7ryHNeuWZgXuW5ZQLMTlyctJX92N6Rt8ofsLrGhYwbqmdTgVJ+ua1iWjUhZSdVnkZqeBWfeXmgAAzFyBuSGITc0LGinCcf05CJ6f39dZCzWrQLi0dVfdWsLRBmqa2rU12KpPQXtK5FJ79iimUqGq8PTXFU6e3MTk5DIan/fz4IPw2GOglPgnsoXQJJF4hLgax+fycXXqKn/V/1dpUSkfXPdB6tx1AKxuXM3qxtV5j1k1DvLENPDmSRqnJuHN57WpV8Icr8Y0YXI3aYIWPKf9Rafm/9QQ3PGk9v5EP4y/qu2b0FTulMD05R+CZQ9p7znrQY/2Yepdbd3laSPucoCrESIBTUOW66NLCIUgGtVmrwDvvguvvw7HjsGKFbByZYzmZjh5Enbvhk0l/qlsIczCwqiUa1PXeP/q9/OhdR9iee1ydq/ZzVr/WlY1rjIdlVJ1SKlZAMdfhWvPQcNWYqF6cEoY/GuYuwYOn2YxBG0t5aqD2SuaoDn16WBdlyZoMg7CqQnZ8g9rGs6oNmjNCuPx1G9AbXuQ4OBJAjencUWD1Hc9iGJiHZaqiMfGYGIC5ua0v1l9+A8/rP3/3HNw7pz2Xiik7dvWBr+i1w/+0Y/gxRdheBg8Hli9el77DQ/bQlg02TLI42qc6cg0jd5GpJT8yct/wkx0RuvgU9/J/avuT2orl8PFB9d9sMKfJA9Saub4VG3VsFkz00+9B0P/WzPRxyMwcxFmzkPdOn1nFWRM+2u8Y37tpbi0t5c9BMtzfH5XYW4VVSo8/cJjnD21GxE5R4gNtG/cwCc/qRAOw86dmqC9+iq88868kM3NQSwGTz6pHefFFzVNlkpj47wQ1tdDZyfU1IDPp/0ltCDAvn2wYwf88R/D2rUwPq5NTwHay2A3u62EcKGD/DvD32F903q2Ld/GlckrNHmb+OKuLyKE4IPrPki9u74sUSlJCl2HSRWik/NGjcSf/05Ny0xfhAt/k249BE2Q3I2aEcTXDs6N2mvhcdRokImAl2tDcURnM031m1DWfsbYJ2ZijFJqU7xUQVmxAtxuuHIlXYhmZ7X/H3gATp5UkHITAwMr8flqeKEfhoagpQW2b9cEZnYWgsF54UkIkqpqGuv979eEKCFkXi84HPNje/DB3GOvr4c779SmnidPwuSkk2BQ229DGexmt4wQmslmSO1DPjIxQmAmwLtj7+J2urlvxX2sa1qX3HZnp2GYX+nItQ6TUtNOsYVCdhf4t2vWwnf/PP14Djf4OjQh9DRD2/vnzfOJP6eWvEvNSlg9n7eoxlV+dGIYZfQk4UiE4NAEauuDfOC+DShoWmZuTpuaud0wNaVN5xLCkxCkD30Ili2Dt96Cb39b2y+V3l7o6IAbN+DUqXnh8fm06eDwsLZdWxuEw2Ha2moYGoI9e7Rje/V74fvfr/1lY9myon4ZQBPmxx7TBPGVVya57z4/GzaU3igDS1QIBwcHk0WSEvj9/rx1O4eCQ4BmEGn1trKmYQ2ToUl6unrYvWZ3eQctpeY4dri1x1f+Di49C24/jvg0hMJw6ZgWFlW7RguZSuCs0YQo4Xh2+2Hlp1LM8w2geOYXRa4GzbdmMASBpqGuX58XoIEBha//98d4aMduapQBQtNb+Me/3cDD7yrU1WnbA+zfD3fcASMj8I//qL3mcMxrnHBYe62lBe67T3stdcqXKBqwY4c2tVzIu+9q/9fWQltbnOZmTeNt2QJ1dUV9+wWhKNr6T1XnSr4OTGVJCmE2EqUFs2XJJ2IuVanS4G6gubaZ2ehs8Q5yNa5pLRkHT4v22o0fQng0xRcW1NZXqz+tCcvQP6GGbzI3KwhMAqKO2poQSiIsav3nU6yH6T+TFC5mPfdqGijFANHaCitXasaG73wnfSo4OwsPPaRpkGAQvv71+eNdvAg3RxQujW/C7W6mtrYVl1ublu3cOS9EHXrI6urV8Gu/pr3mcmXaXtrbc6+dsvVx2bBBm/ItxhSwmliyQtjX10dvby99fX2cOHGCrq4uenp62LNnT1Yh3NC8gQdXv5+T559jemqUoNrKg+s/nttBHg/PxxmqcWjQm01e/x7MXNbfm9Feq12tTSdBM+HHQ5og1eqhUb55q6C6/pd5byDEmxfWEgpFcLvc3LH2ElvvaUcBXji9hpmZ9Cnfxo3wwQ9qGu0P/zBzqO97nyaEDoc25fP5NEFatkx73NmpbdfQAJ/97LxwXb0Khw9rgjM+rk07162DvXuNLYEul2boKDWLOQWsJpasEO7cuZMjR47Q39+fNjXNVa1MAT5XD/e6BWdVhc2uGHd7AihT72pxiGpYW0sBXP0OTL6pCWECtx8a/i/tsZRavKKvE+lqIKLWE1VaSMya3lUfZyKQromamrS1DcDv/Je7kOd3876uk3icMZyKk//1yoO4PrCBTX44fVpbUyWmdLW12h9oF+Ujj2jrs9QpX+J9lwv+/b/P/t05nZBaMrWhYfGMEPlYrClgNbFkhTBBd3d3WoW0XNXK1MlzDL78Epcv3clK19vUREaYnP4WzbNXEN4WpHAiWh8AIQhEOpgLOZmLNTATqWcm0oDqaOABPcXtudc/zvnz80ImJSxfDl/8ovb+yZOaFRA0g4LPl26ha25R+O7LjxH178YVfw+ldiNvBTZw/w2FTZvh1389+7QNtHVVqbhdNVC1UDEh1DPnB5kv+BQo5DiJpi0JcmnCa+eHuHET/H6F6ckWwpN+bk6McH3oYW4qe5iL1fGbd2pX/vOv7uQnP0nf3++HBx7WHtfWamukVAtf6hRt3z5N43i9xhfzRz8Kp08rOJo2MTreTLOvFa9vfi212P0vb0cNVC1URAj1shZ+KWWfEMIPHAIsVV0bHBykt7eX06dP8/zzzydfz6UJhyY6EIAQKsFwE2rcjd8VZVS5k/V3N+DzzUdefOADsGtXupClarKH8pTjTHX+GnG7GiFsMqmUJtyLlmFPSsa9abq6ujhx4kTG6/nqdvpXbeDkDx6ke9VJvC1hPF4P/Vce5KM/v4FNm9O3Xb7cyoisY08BbRJUSghbSCn+C5Sk7HS+up0bNiq82PUY/+PMbpzR94i5NrJpxwY2bKzMlW9PAW1gEautpZ1UiEPAqUTtUSHEhJSyacE2yWprLS0tO9auXVvSMUQiEdxud0mPWSj2WKp3HFCasZw5c0ZKKQ3v9pXShGPk0X4Lq61Va/HfUmCPpXrHASUr/tuf7b1KrUD6AD+AbpgpbVFRG5slREU0od6bIrUK9+OVGIeNTTVQMT9hSi8KWwva3NbYBnEbmwpjC6GNTYWxhdDGpsKUXQiFEH4hxBG9JH7itQNCiB79f3+5x2BjU80shibcSYpPMDVuFHgWLW7Uxua2pexCqAtbampDWtwoUP5KrjY2VUwl1oQtpAtlSeJGbWyWKlWb1LugUy8DAwMlPf7o6GjJj1ko9liqdxxQ/rFUQgjzxo3C7dGpN4E9luocR7ZOyqWmEkLYh74OrPa4UbHY6e06lchssUkntVD05NQkz489z4OrH+Sx7sdKLoiL0S57L5qFNCCECCyVuNGjR48umjBUw13fRmv6MxQcYmh6iNPXT/PfXv8bdrVtoskpaPDVcfLyi+xeu7vkzXvKLoR6jOhxg9egirVgtWGmwngljrVUicajDE8P43V6aattY3R2lD//1z9H6u2xR2Zu4okGcI6fwatKlJFBkLUMB6+XXAjtiBkDEgWE+/r6aGpq4ujRo8n3Dh8+TG9vL4FAwNSxjh/P3RE8EAjw/e9/P+82qRXlzLBv3z76+tLvcYcPH6avry9Zrfx2QkrJqWun+IeBf+Crp77KUz96ir969a84df0UAM2+Zh5a+xD/x7ZH+b/v+Qy/umY76wjS4PKiOhpQnY0QukG7COc5k3Wq1jpaDfT09GQUEu7u7uaJJ54wtX9fXx/d3d05t0lopMHBwbSqcak89dRTloUw0RKgp2feDfvMM88kx56vWvlSJa7GuTFzg+vB6wwFh/C5fPR09SCE4OTlk8TUGJ31nWxu3UxnbRsrfFqJPEUoPCyvwI0fgRqjdvoC769x8sPJSWbCXmpqwnyoZRkbvJ6Sj9kWwgUcP36c/fv3J5/39vayb9++5MWaqgH7+vqSwtPT00NfXx+HDh2it7eXwcFBxsbG0vplJKqFHz16lJ6eHnp7e+np6eGjH/1oRm+NVPr7+9MEtL+/n8HBQfbu3cvRo0fZv38/fr8/WeQqUYU8Vdv19fWlCWS+auWVIlvrOiPiapzJ8CTNPs3Y/vcDf89PbvyEuIwD4HP62Nw6X8Hrl+54BF/4BiJ0A+behukx8C6Der1YrHe59ufrgPAMu99ViY41cDMaYNm0n92+IHg6S/6ZbSFcwPj4eNp6KXHxDw4OZjwfHBzkwIED7Nmzh56enqRg7d27FyBNCAYHBzlx4gSHDh1i165dAGlCkTj+Qow05DPPPJM89okTJzhw4ACHDx/m0UcfZe/evcn3EkJ64MABQyHPVaO1EuSzSE7MTXBp8hLXg9e5HrzO8PQwilD4zQ/8JopQaK9rp9ZZQ6evgU6Xgl+dQUQnknUsaybfgMBPtPZw3natw5UvRag6PpJ8+M6bKi+++SY7V51EqnE83mleenc3yg2tQnopuW2F8K233uLLX/4yx44dS762UFskSEztdu3alRSwrq4uDhw4kLE2zDb9PH78eFI4xsfH2bmgLVG2eqlGa08jwTx//jznz5/n1KlTyZtIqhYPBAIZ++Sq0VoJtNZ1L7LaW8eN4AioIf7nm/+D+1bex53L7+T1G6/zzxf/GbfDTUddB7s6dtDprUHGY+B08z6fE6Zem2/NKwS4W7T2Bg6v1uu+82NalyudeByE3tfwwgV45RW4eRNefVXh1f7H2LVlN3esH8BZu4Uz1zawUa+QXkpuWyHctm0bkH5BDw4OGgrhgQMHWL9+fVKDgTYl7OvrMz2dGxsbS57nzJkzpvfr6urK0FgJwezv72fXrl309/ezY8cOmpubkzeJxL7Nzc0cP